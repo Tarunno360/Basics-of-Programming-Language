{
 "cells": [
  {
   "cell_type": "code",
   "execution_count": null,
   "metadata": {
    "id": "RJp2p8cbd7En"
   },
   "outputs": [],
   "source": [
    "n = int(input('Please enter a number :'))\n",
    "y = 0\n",
    "for i in range(0,n+1):\n",
    "    if i !=1:\n",
    "        print(i, end=' ')\n",
    "        print(\"Hello github\")\n",
    "        print(\"still not starting\")\n"
   ]
  },
  {
   "cell_type": "code",
   "execution_count": null,
   "metadata": {
    "id": "uB9yql4WAW_d"
   },
   "outputs": [],
   "source": [
    "#todo\n",
    "user1=str(input('Please enter something : '))\n",
    "bin = {'0','1'}\n",
    "set_1 = set(user1)\n",
    "if set_1==bin or bin==0 or bin==1:\n",
    "  print('Binary Number')\n",
    "else:\n",
    "  print('Not a binary number')"
   ]
  },
  {
   "cell_type": "markdown",
   "metadata": {
    "id": "AEMIRU93aGZk"
   },
   "source": [
    "Write a python program that takes 2 inputs from the user. It should print -\n",
    "1. A series of numbers starting from the first input(X) to second input(Y) \n",
    "inclusive, with following terms which are the multiples of X.\n",
    "2. All the numbers in every 3rd position of the original series .\n",
    "3. Summation of all the numbers in every 3rd position of the original \n",
    "series.\n",
    "\n",
    "NB: Both of the inputs, X and Y, can not be a negative number or 0. The \n",
    "second input(Y), must be greater than the first input(X). The program \n",
    "should print \"Invalid input\" otherwise.\n",
    "\n",
    "\n",
    "Sample input 1:\n",
    "4\n",
    "28\n",
    "\n",
    "Sample Output 1:\n",
    "The original series: 4, 8, 12, 16, 20, 24, 28\n",
    "Numbers in every 3rd position: 12, 24\n",
    "Sum of all the numbers in every 3rd position: 36\n",
    "\n",
    "Explanation 1:\n",
    "The user entered 4 as the first input and 28 as the second input. So, the \n",
    "program prints the series of numbers that are multiples of first input(4) \n",
    "within the range of 4 and 28 inclusive: “The original series: 4, 8, 12, 16, \n",
    "20, 24, 28\". Then the program prints the numbers in every 3rd position of \n",
    "that series. Here, the numbers 12 and 24 are in the 3rd and 6th position of \n",
    "the series. So, it should print: “Numbers in every 3rd position: 12,  24”. \n",
    "Finally, the program prints “Sum of all the numbers in every 3rd position: \n",
    "36” as 12 + 24 = 36\n",
    "\n",
    "\n",
    "Sample input 2:\n",
    "0\n",
    "15\n",
    "\n",
    "Sample Output 2:\n",
    "Invalid input\n",
    "\n",
    "Explanation 2:\n",
    "The user enters 0 as the first input, which is not allowed. The program \n",
    "prints \"Invalid input\" and ends.\n",
    "\n",
    "Sample input 3:\n",
    "7\n",
    "99\n",
    "\n",
    "Sample Output 3:\n",
    "The original series: 7, 14, 21, 28, 35, 42, 49, 56, 63, 70, 77, 84, 91, 98\n",
    "Numbers in every 3rd position: 21, 42, 63, 84\n",
    "Sum of all the numbers in every 3rd position: 210\n",
    "\n",
    "Explanation 3:\n",
    "The user entered 7 as the first input and 99 as the second input. So, the \n",
    "program prints the series of numbers that are multiple of first input(7) \n",
    "within the range of 7 and 99 inclusive: “The original series: 7, 14, 21, \n",
    "28, 35, 42, 49, 56, 63, 70, 77, 84, 91, 98\". Then the program prints the \n",
    "numbers in every 3rd position of that series. So, it prints : “Numbers in \n",
    "every 3rd position: 21, 42, 63, 84”. Finally, the program prints “Sum of \n",
    "all the numbers in every 3rd position: 210”, as 21 + 42 + 63 + 84 = 210"
   ]
  },
  {
   "cell_type": "code",
   "execution_count": null,
   "metadata": {
    "colab": {
     "base_uri": "https://localhost:8080/"
    },
    "executionInfo": {
     "elapsed": 8750,
     "status": "ok",
     "timestamp": 1645993332299,
     "user": {
      "displayName": "SM AZMAIN FAYSAL",
      "photoUrl": "https://lh3.googleusercontent.com/a-/AOh14GjCng6Mjtfby41R5dsEKA1n8fdP6AhL2ANCfIEa=s64",
      "userId": "13640556625402637400"
     },
     "user_tz": -360
    },
    "id": "AO1olXuDz_TV",
    "outputId": "979969f4-8fd2-4845-e325-742453768fb4"
   },
   "outputs": [
    {
     "name": "stdout",
     "output_type": "stream",
     "text": [
      "enter mango2\n",
      "enter lichu 1\n",
      "enter komolabanu3\n",
      "Total 1300\n",
      "1150\n"
     ]
    }
   ],
   "source": [
    "man=int(input('enter mango'))\n",
    "lychee=int(input('enter lichu '))\n",
    "org = int(input('enter komolabanu'))\n",
    "sum = man*120+lychee*400+org*220\n",
    "print('Total',sum)\n",
    "if (sum<=450 and sum>=0):\n",
    "  print(sum)\n",
    "elif (sum>=451 and sum<=699):\n",
    "  print(sum-25)\n",
    "elif (sum>=700 and sum<=849):\n",
    "  print(sum-50)\n",
    "elif (sum>=850 and sum<=1599):\n",
    "  print(sum-150)\n",
    "elif (sum>=1600):\n",
    "  print(sum-250)\n",
    "else:\n",
    "  print('error')"
   ]
  },
  {
   "cell_type": "code",
   "execution_count": null,
   "metadata": {
    "colab": {
     "base_uri": "https://localhost:8080/"
    },
    "executionInfo": {
     "elapsed": 78400,
     "status": "ok",
     "timestamp": 1646070903595,
     "user": {
      "displayName": "SM AZMAIN FAYSAL",
      "photoUrl": "https://lh3.googleusercontent.com/a-/AOh14GjCng6Mjtfby41R5dsEKA1n8fdP6AhL2ANCfIEa=s64",
      "userId": "13640556625402637400"
     },
     "user_tz": -360
    },
    "id": "Q1y_dd4hCmI2",
    "outputId": "94b721bf-c211-48be-81cc-b9076a2fee6e"
   },
   "outputs": [
    {
     "name": "stdout",
     "output_type": "stream",
     "text": [
      "4\n",
      "28\n",
      "4 ,8 ,12 ,16 ,20 ,24 ,28"
     ]
    }
   ],
   "source": [
    "x=int(input())\n",
    "y=int(input())\n",
    "org=0\n",
    "for i in range(x,y+1,x):\n",
    "  if(y==i):\n",
    "    print(i,end='')\n",
    "  else:\n",
    "    print(i,end=' ,')\n",
    "   "
   ]
  },
  {
   "cell_type": "markdown",
   "metadata": {
    "id": "w8NEvgZDcvEg"
   },
   "source": [
    "Write the python programs, which prints the following sequences of values in loops:\n",
    "\n",
    "a) 24, 18, 12, 6, 0, -6\n",
    "b) -10, -5, 0, 5, 10, 15, 20\n",
    "c) 18, 27, 36, 45, 54, 63\n",
    "d) 18, -27, 36, -45, 54, -63\n"
   ]
  },
  {
   "cell_type": "code",
   "execution_count": null,
   "metadata": {
    "colab": {
     "base_uri": "https://localhost:8080/"
    },
    "executionInfo": {
     "elapsed": 336,
     "status": "ok",
     "timestamp": 1646592810857,
     "user": {
      "displayName": "SM AZMAIN FAYSAL",
      "photoUrl": "https://lh3.googleusercontent.com/a-/AOh14GjCng6Mjtfby41R5dsEKA1n8fdP6AhL2ANCfIEa=s64",
      "userId": "13640556625402637400"
     },
     "user_tz": -360
    },
    "id": "npVix8oqhK0_",
    "outputId": "d1237cbd-2e61-4dcf-f272-862b2f3bc73b"
   },
   "outputs": [
    {
     "name": "stdout",
     "output_type": "stream",
     "text": [
      "18,-27,36,-45,54,63"
     ]
    }
   ],
   "source": [
    "count=18\n",
    "while count<=63:\n",
    "  if count%2==0:\n",
    "    print(count,end=',')\n",
    "  elif count==63:\n",
    "    print(count,end='')\n",
    "  else:\n",
    "    print(-1*count,end=',')\n",
    "  count+=9"
   ]
  },
  {
   "cell_type": "code",
   "execution_count": null,
   "metadata": {
    "colab": {
     "base_uri": "https://localhost:8080/"
    },
    "executionInfo": {
     "elapsed": 329,
     "status": "ok",
     "timestamp": 1646591778074,
     "user": {
      "displayName": "SM AZMAIN FAYSAL",
      "photoUrl": "https://lh3.googleusercontent.com/a-/AOh14GjCng6Mjtfby41R5dsEKA1n8fdP6AhL2ANCfIEa=s64",
      "userId": "13640556625402637400"
     },
     "user_tz": -360
    },
    "id": "gffUDnDvg6FY",
    "outputId": "5e4d5ecb-3302-4ac3-877d-314c6307fe20"
   },
   "outputs": [
    {
     "name": "stdout",
     "output_type": "stream",
     "text": [
      "18,27,36,45,54,63\n"
     ]
    }
   ],
   "source": [
    "count = 18\n",
    "while count <=63:\n",
    "  if count ==63:\n",
    "    print(count)\n",
    "    count+=9\n",
    "  else:\n",
    "    print(count,end=',')\n",
    "    count+=9"
   ]
  },
  {
   "cell_type": "code",
   "execution_count": null,
   "metadata": {
    "colab": {
     "base_uri": "https://localhost:8080/"
    },
    "executionInfo": {
     "elapsed": 330,
     "status": "ok",
     "timestamp": 1646591607201,
     "user": {
      "displayName": "SM AZMAIN FAYSAL",
      "photoUrl": "https://lh3.googleusercontent.com/a-/AOh14GjCng6Mjtfby41R5dsEKA1n8fdP6AhL2ANCfIEa=s64",
      "userId": "13640556625402637400"
     },
     "user_tz": -360
    },
    "id": "Wx3v3BGPf3Q8",
    "outputId": "51b365ac-9a81-4e23-96af-73a468c8811b"
   },
   "outputs": [
    {
     "name": "stdout",
     "output_type": "stream",
     "text": [
      "-10,-5,0,5,10,15,20\n"
     ]
    }
   ],
   "source": [
    "count = -10\n",
    "while count <=20:\n",
    "  if count==20:\n",
    "    print(count)\n",
    "    count+=5\n",
    "  else:\n",
    "    print(count,end=',')\n",
    "    count+=5"
   ]
  },
  {
   "cell_type": "code",
   "execution_count": null,
   "metadata": {
    "colab": {
     "base_uri": "https://localhost:8080/"
    },
    "executionInfo": {
     "elapsed": 322,
     "status": "ok",
     "timestamp": 1646591265127,
     "user": {
      "displayName": "SM AZMAIN FAYSAL",
      "photoUrl": "https://lh3.googleusercontent.com/a-/AOh14GjCng6Mjtfby41R5dsEKA1n8fdP6AhL2ANCfIEa=s64",
      "userId": "13640556625402637400"
     },
     "user_tz": -360
    },
    "id": "OXcddLrGcldG",
    "outputId": "2b81d645-ac12-4eb3-843e-bad142e895d2"
   },
   "outputs": [
    {
     "name": "stdout",
     "output_type": "stream",
     "text": [
      "24,18,12,6,0,-6"
     ]
    }
   ],
   "source": [
    "count = 24\n",
    "while count>=-6:\n",
    "  if count==-6:\n",
    "    print(count,end='')\n",
    "    count= count-6\n",
    "  else:\n",
    "    print(count,end=',')\n",
    "    count-=6"
   ]
  },
  {
   "cell_type": "markdown",
   "metadata": {
    "id": "h04pfDCClYxN"
   },
   "source": [
    "Task 2\n",
    "Write a Python code for the following:\n",
    "\n",
    "1) Ask the user to enter the name of his favorite car.\n",
    "2) Ask the user to enter a Number\n",
    "\n",
    "Display the name of the user’s favorite car, the number of times specified in the second step.\n",
    "\n",
    "==========================================================\n",
    "\n",
    "Example 1: If the user enters “Toyota” and 2, your program should print the name “Toyota” two times.\n",
    "\n",
    "Sample Input 1:\n",
    "Toyota\n",
    "2\n",
    "\n",
    "Sample Output 1:\n",
    "Toyota\n",
    "Toyota"
   ]
  },
  {
   "cell_type": "code",
   "execution_count": null,
   "metadata": {
    "colab": {
     "base_uri": "https://localhost:8080/"
    },
    "executionInfo": {
     "elapsed": 4561,
     "status": "ok",
     "timestamp": 1646593032209,
     "user": {
      "displayName": "SM AZMAIN FAYSAL",
      "photoUrl": "https://lh3.googleusercontent.com/a-/AOh14GjCng6Mjtfby41R5dsEKA1n8fdP6AhL2ANCfIEa=s64",
      "userId": "13640556625402637400"
     },
     "user_tz": -360
    },
    "id": "tdySxQKOlYTs",
    "outputId": "b468ef6f-9848-4d43-e904-d393a1bc1e9a"
   },
   "outputs": [
    {
     "name": "stdout",
     "output_type": "stream",
     "text": [
      "Please enter car : kiki\n",
      "number de betta2\n",
      "kiki\n",
      "kiki\n"
     ]
    }
   ],
   "source": [
    "car = input('Please enter car : ')\n",
    "num = int(input('number de betta'))\n",
    "count=0\n",
    "while count<num:\n",
    "  print(car)\n",
    "  count+=1"
   ]
  },
  {
   "cell_type": "markdown",
   "metadata": {
    "id": "W-s68UzSmDXd"
   },
   "source": [
    "Write the Python code of a program that adds all numbers that are multiples of both 7 and 9 up to 600 (including 600) i.e. 63, 126, 189, 252, ....\n",
    "\n",
    "The output of your program should be: 2835\n",
    "since 63 + 126 + 189 + 252 + 315 + 378 + 441 + 504 + 567 = 2835"
   ]
  },
  {
   "cell_type": "code",
   "execution_count": null,
   "metadata": {
    "colab": {
     "base_uri": "https://localhost:8080/"
    },
    "executionInfo": {
     "elapsed": 307,
     "status": "ok",
     "timestamp": 1646593256985,
     "user": {
      "displayName": "SM AZMAIN FAYSAL",
      "photoUrl": "https://lh3.googleusercontent.com/a-/AOh14GjCng6Mjtfby41R5dsEKA1n8fdP6AhL2ANCfIEa=s64",
      "userId": "13640556625402637400"
     },
     "user_tz": -360
    },
    "id": "UASPD0qEmEFr",
    "outputId": "5ccab78b-2e77-43e8-b11f-76279affcc71"
   },
   "outputs": [
    {
     "name": "stdout",
     "output_type": "stream",
     "text": [
      "2835\n"
     ]
    }
   ],
   "source": [
    "sum=0\n",
    "for i in range(1,601):\n",
    "  if i%7==0 and i%9==0:\n",
    "    sum=sum+i\n",
    "print(sum)\n"
   ]
  },
  {
   "cell_type": "markdown",
   "metadata": {
    "id": "joxvIoUWm2I0"
   },
   "source": [
    "Write the Python code of a program that adds all numbers that are multiples of either 7 or 9 up to 600 (including 600) i.e. 7, 9, 14, 18, 21, 27, 28, 35, 36.....\n",
    "Ensure that numbers like 63, 126, 189 which are multiples of both 7 and 9 are added only once in the sum.\n",
    "\n",
    "The output of your program should be: 42649"
   ]
  },
  {
   "cell_type": "code",
   "execution_count": null,
   "metadata": {
    "colab": {
     "base_uri": "https://localhost:8080/"
    },
    "executionInfo": {
     "elapsed": 602,
     "status": "ok",
     "timestamp": 1646593395988,
     "user": {
      "displayName": "SM AZMAIN FAYSAL",
      "photoUrl": "https://lh3.googleusercontent.com/a-/AOh14GjCng6Mjtfby41R5dsEKA1n8fdP6AhL2ANCfIEa=s64",
      "userId": "13640556625402637400"
     },
     "user_tz": -360
    },
    "id": "qpU2ZfKLm2-c",
    "outputId": "7dbe1090-c101-4bbf-9463-5a23388bbeca"
   },
   "outputs": [
    {
     "name": "stdout",
     "output_type": "stream",
     "text": [
      "42649\n"
     ]
    }
   ],
   "source": [
    "sum = 0\n",
    "for i in range(1,600):\n",
    "  if i%7==0 or i%9==0:\n",
    "    sum=sum+i\n",
    "print(sum)"
   ]
  },
  {
   "cell_type": "markdown",
   "metadata": {
    "id": "EZSRieeGnjl0"
   },
   "source": [
    "Write a Python code of a program that adds all numbers that are multiples of either 7 or 9 but not both, up to 600 (including 600) i.e. 7, 9, 14, 18, 21..... and so on but not the numbers 63, 126, 189..... which are multiples of both 7 and 9.\n",
    "\n",
    "The output of your program should be: 39814"
   ]
  },
  {
   "cell_type": "code",
   "execution_count": null,
   "metadata": {
    "colab": {
     "base_uri": "https://localhost:8080/"
    },
    "executionInfo": {
     "elapsed": 308,
     "status": "ok",
     "timestamp": 1646593651545,
     "user": {
      "displayName": "SM AZMAIN FAYSAL",
      "photoUrl": "https://lh3.googleusercontent.com/a-/AOh14GjCng6Mjtfby41R5dsEKA1n8fdP6AhL2ANCfIEa=s64",
      "userId": "13640556625402637400"
     },
     "user_tz": -360
    },
    "id": "wukhXor0nnA2",
    "outputId": "51adf603-70ff-4a01-db5a-83f523815fbf"
   },
   "outputs": [
    {
     "name": "stdout",
     "output_type": "stream",
     "text": [
      "39814\n"
     ]
    }
   ],
   "source": [
    "sum=0\n",
    "for i in range(0,601):\n",
    "  if i%7==0 and i%9!=0:\n",
    "    sum=sum+i\n",
    "  elif i%7!=0 and i%9==0:\n",
    "    sum=sum+i\n",
    "  else:\n",
    "    pass\n",
    "print(sum)"
   ]
  },
  {
   "cell_type": "markdown",
   "metadata": {
    "id": "jLCRni7HoazT"
   },
   "source": [
    "Write the Python code of a program that displays all the odd numbers between 10 and 50 (inclusive).\n",
    "\n",
    "Output: 11 13 15 17 19 21 23 25 27 29 31 33 35 37 39 41 43 45 47 49"
   ]
  },
  {
   "cell_type": "code",
   "execution_count": null,
   "metadata": {
    "colab": {
     "base_uri": "https://localhost:8080/"
    },
    "executionInfo": {
     "elapsed": 306,
     "status": "ok",
     "timestamp": 1646593796909,
     "user": {
      "displayName": "SM AZMAIN FAYSAL",
      "photoUrl": "https://lh3.googleusercontent.com/a-/AOh14GjCng6Mjtfby41R5dsEKA1n8fdP6AhL2ANCfIEa=s64",
      "userId": "13640556625402637400"
     },
     "user_tz": -360
    },
    "id": "GM1p9OWIoaaF",
    "outputId": "c9177bdc-6c07-4d88-af32-671edd787324"
   },
   "outputs": [
    {
     "name": "stdout",
     "output_type": "stream",
     "text": [
      "11 13 15 17 19 21 23 25 27 29 31 33 35 37 39 41 43 45 47 49 "
     ]
    }
   ],
   "source": [
    "for i in range(10,50):\n",
    "  if i%2!=0:\n",
    "    print(i,end=' ')\n"
   ]
  },
  {
   "cell_type": "markdown",
   "metadata": {
    "id": "Y0txXlpXsNJM"
   },
   "source": []
  },
  {
   "cell_type": "markdown",
   "metadata": {
    "id": "Nw4dX_MeSK5V"
   },
   "source": [
    "### Task 7\n",
    "Write a Python code that will calculate the **value of y if the expression** of y is as follows (n is the input):  \n",
    "\n",
    "$y = 1^2 - 2^2 +3^2 -4^2 +5^2 .........+ n^2 $\n",
    "\n",
    "==========================================================\n",
    "\n",
    "**Sample Input 1:**\\\n",
    "5\n",
    "\n",
    "**Sample Output 1:**\\\n",
    "15\n",
    "\n",
    "**Explanation:** y = 1 - 4 + 9 - 16 + 25 = 15\n",
    "\n",
    "==========================================================\n",
    "\n",
    "**Sample Input 2:**\\\n",
    "10\n",
    "\n",
    "**Sample Output 2:**\\\n",
    "-55\n",
    "\n",
    "**Explanation:** y = 1 - 4 + 9 - 16 + 25 - 36 + 49 - 64 + 81 - 100 = -55\n",
    "\n",
    "==========================================================\n",
    "\n",
    "**Sample Input 3:**\\\n",
    "20\n",
    "\n",
    "**Sample Output 3:**\\\n",
    "-210\n",
    "\n"
   ]
  },
  {
   "cell_type": "code",
   "execution_count": null,
   "metadata": {
    "colab": {
     "base_uri": "https://localhost:8080/"
    },
    "executionInfo": {
     "elapsed": 2119,
     "status": "ok",
     "timestamp": 1646595152994,
     "user": {
      "displayName": "SM AZMAIN FAYSAL",
      "photoUrl": "https://lh3.googleusercontent.com/a-/AOh14GjCng6Mjtfby41R5dsEKA1n8fdP6AhL2ANCfIEa=s64",
      "userId": "13640556625402637400"
     },
     "user_tz": -360
    },
    "id": "KBpv7GH4sAjW",
    "outputId": "270ebeb7-693a-45e3-f4d8-9183be9e8df1"
   },
   "outputs": [
    {
     "name": "stdout",
     "output_type": "stream",
     "text": [
      "5\n",
      "15\n"
     ]
    }
   ],
   "source": [
    "n = int(input())\n",
    "y=0\n",
    "for i in range(0,n+1):\n",
    "  if i%2==0:\n",
    "    y=y-(i*i)\n",
    "  else:\n",
    "    y=y+(i*i)\n",
    "print(y)\n",
    "    "
   ]
  },
  {
   "cell_type": "markdown",
   "metadata": {
    "id": "2a2uvCpuuHgU"
   },
   "source": [
    "Write a Python code of a program that asks the user to enter ten numbers and then display the total and the average of ONLY the odd numbers among those ten numbers.\n",
    "[Please do not use list for this task]\n",
    "\n",
    "==========================================================\n",
    "\n",
    "Sample Input 1:\n",
    "1\n",
    "\n",
    "2\n",
    "\n",
    "3\n",
    "\n",
    "4\n",
    "\n",
    "5\n",
    "\n",
    "6\n",
    "\n",
    "7\n",
    "\n",
    "8\n",
    "\n",
    "9\n",
    "\n",
    "10\n",
    "\n",
    "Sample Output 1: The total of the odd numbers is 25 and their average is 5.0"
   ]
  },
  {
   "cell_type": "code",
   "execution_count": null,
   "metadata": {
    "colab": {
     "base_uri": "https://localhost:8080/"
    },
    "executionInfo": {
     "elapsed": 24854,
     "status": "ok",
     "timestamp": 1646595761248,
     "user": {
      "displayName": "SM AZMAIN FAYSAL",
      "photoUrl": "https://lh3.googleusercontent.com/a-/AOh14GjCng6Mjtfby41R5dsEKA1n8fdP6AhL2ANCfIEa=s64",
      "userId": "13640556625402637400"
     },
     "user_tz": -360
    },
    "id": "xAYdZFtAuJAr",
    "outputId": "ba876628-3d21-4bef-a3e8-d9ef729daafe"
   },
   "outputs": [
    {
     "name": "stdout",
     "output_type": "stream",
     "text": [
      "1\n",
      "2\n",
      "3\n",
      "4\n",
      "5\n",
      "6\n",
      "7\n",
      "8\n",
      "9\n",
      "10\n",
      "25\n",
      "5.0\n"
     ]
    }
   ],
   "source": [
    "y=0\n",
    "odd=0\n",
    "for i in range(0,10):\n",
    "  x=int(input())\n",
    "  if x%2!=0:\n",
    "    y=y+x\n",
    "    odd+=1\n",
    "print(y)\n",
    "print(y/odd)"
   ]
  },
  {
   "cell_type": "markdown",
   "metadata": {
    "id": "eapdEb3hhrgt"
   },
   "source": [
    "Task 9\n",
    "Write a Python code for the following:\n",
    "\n",
    "Ask the user to enter a Number, N\n",
    "Display the summation of multiples of 7 up to that number (from 1 to N inclusive)\n",
    "==========================================================\n",
    "\n",
    "Sample Input 1:\n",
    "50\n",
    "\n",
    "Sample Output 1:\n",
    "196"
   ]
  },
  {
   "cell_type": "code",
   "execution_count": null,
   "metadata": {
    "colab": {
     "base_uri": "https://localhost:8080/"
    },
    "executionInfo": {
     "elapsed": 4303,
     "status": "ok",
     "timestamp": 1646625816188,
     "user": {
      "displayName": "SM AZMAIN FAYSAL",
      "photoUrl": "https://lh3.googleusercontent.com/a-/AOh14GjCng6Mjtfby41R5dsEKA1n8fdP6AhL2ANCfIEa=s64",
      "userId": "13640556625402637400"
     },
     "user_tz": -360
    },
    "id": "3h8j54JIiNKZ",
    "outputId": "581b0030-ec39-42f8-de90-bb17c9cb8c01"
   },
   "outputs": [
    {
     "name": "stdout",
     "output_type": "stream",
     "text": [
      "50\n",
      "196\n"
     ]
    }
   ],
   "source": [
    "sum=0\n",
    "n=int(input())\n",
    "for i in range(1,n+1):\n",
    "  if i%7==0:\n",
    "    sum=sum+i\n",
    "print(sum)\n"
   ]
  },
  {
   "cell_type": "markdown",
   "metadata": {
    "id": "vMBf32q9jIYw"
   },
   "source": [
    "Write a Python code that will read 5 numbers from the user. Your program should print the first number, the sum of the first 2 numbers, the sum of the first 3 numbers, and so on up to the sum of 5 numbers.\n",
    "\n",
    "==========================================================\n",
    "\n",
    "Sample Input 1:\n",
    "1\n",
    "2\n",
    "3\n",
    "4\n",
    "5\n",
    "\n",
    "Sample Output 1:\n",
    "1\n",
    "3\n",
    "6\n",
    "10\n",
    "15"
   ]
  },
  {
   "cell_type": "code",
   "execution_count": null,
   "metadata": {
    "colab": {
     "base_uri": "https://localhost:8080/"
    },
    "executionInfo": {
     "elapsed": 12753,
     "status": "ok",
     "timestamp": 1646626149148,
     "user": {
      "displayName": "SM AZMAIN FAYSAL",
      "photoUrl": "https://lh3.googleusercontent.com/a-/AOh14GjCng6Mjtfby41R5dsEKA1n8fdP6AhL2ANCfIEa=s64",
      "userId": "13640556625402637400"
     },
     "user_tz": -360
    },
    "id": "Yt6cyAmajH16",
    "outputId": "9c1812ce-94d3-44c4-a8c9-985c96e64c53"
   },
   "outputs": [
    {
     "name": "stdout",
     "output_type": "stream",
     "text": [
      "1\n",
      "1 2\n",
      "3 3\n",
      "6 4\n",
      "10 5\n",
      "15 "
     ]
    }
   ],
   "source": [
    "sum=0\n",
    "for i in range(1,6):\n",
    "  n=int(input())\n",
    "  sum=sum+i\n",
    "  print(sum,end=' ')\n"
   ]
  },
  {
   "cell_type": "markdown",
   "metadata": {
    "id": "tXLtrnFnkV2D"
   },
   "source": [
    "Write a Python program which takes a number and prints the digits from the unit place, then the tenth, then hundredth, etc. (Right to Left)\n",
    "\n",
    "[Consider the input number to be an INTEGER. You are not allowed to use String indexing for solving this task]\n",
    "\n",
    "Example: If the user gives 32768, then print 8, 6, 7, 2, 3"
   ]
  },
  {
   "cell_type": "code",
   "execution_count": null,
   "metadata": {
    "colab": {
     "base_uri": "https://localhost:8080/"
    },
    "executionInfo": {
     "elapsed": 4319,
     "status": "ok",
     "timestamp": 1646627073117,
     "user": {
      "displayName": "SM AZMAIN FAYSAL",
      "photoUrl": "https://lh3.googleusercontent.com/a-/AOh14GjCng6Mjtfby41R5dsEKA1n8fdP6AhL2ANCfIEa=s64",
      "userId": "13640556625402637400"
     },
     "user_tz": -360
    },
    "id": "N-EMq5MpkVmU",
    "outputId": "e587563c-520e-493f-a111-5b3e422106f8"
   },
   "outputs": [
    {
     "name": "stdout",
     "output_type": "stream",
     "text": [
      "321\n",
      "1,2,3"
     ]
    }
   ],
   "source": [
    "n = int(input())\n",
    "while n>0:\n",
    "  if n<10: \n",
    "    print(n%10,end='') #10 diye mod korle baki thake 8 oi 8 print hoy\n",
    "    n=n//10 # floor division korle 8 bad chole jay\n",
    "  else:\n",
    "    print(n%10,end=',')\n",
    "    n=n//10"
   ]
  },
  {
   "cell_type": "markdown",
   "metadata": {
    "id": "an6iNq9BoHid"
   },
   "source": [
    "Write a Python program that takes a number and prints how many digits are in that number.\n",
    "[Consider the input number to be an INTEGER.]\n",
    "\n",
    "[You are not allowed to use len() function]\n",
    "\n",
    "Example: If the user gives 9876, your program should print 4."
   ]
  },
  {
   "cell_type": "code",
   "execution_count": null,
   "metadata": {
    "colab": {
     "base_uri": "https://localhost:8080/",
     "height": 304
    },
    "executionInfo": {
     "elapsed": 2801,
     "status": "error",
     "timestamp": 1646628863416,
     "user": {
      "displayName": "SM AZMAIN FAYSAL",
      "photoUrl": "https://lh3.googleusercontent.com/a-/AOh14GjCng6Mjtfby41R5dsEKA1n8fdP6AhL2ANCfIEa=s64",
      "userId": "13640556625402637400"
     },
     "user_tz": -360
    },
    "id": "ELMMHKFQoOuq",
    "outputId": "c357637a-474e-4c24-ddc1-207eac1c567b"
   },
   "outputs": [
    {
     "name": "stdout",
     "output_type": "stream",
     "text": [
      "123\n",
      "1\n",
      "12\n",
      "123\n",
      "1229.0\n"
     ]
    },
    {
     "ename": "ZeroDivisionError",
     "evalue": "ignored",
     "output_type": "error",
     "traceback": [
      "\u001b[0;31m---------------------------------------------------------------------------\u001b[0m",
      "\u001b[0;31mZeroDivisionError\u001b[0m                         Traceback (most recent call last)",
      "\u001b[0;32m<ipython-input-27-eccf5d333c82>\u001b[0m in \u001b[0;36m<module>\u001b[0;34m()\u001b[0m\n\u001b[1;32m      8\u001b[0m \u001b[0;32mwhile\u001b[0m \u001b[0mnew\u001b[0m\u001b[0;34m>\u001b[0m\u001b[0;36m0\u001b[0m\u001b[0;34m:\u001b[0m\u001b[0;34m\u001b[0m\u001b[0;34m\u001b[0m\u001b[0m\n\u001b[1;32m      9\u001b[0m   \u001b[0mprint\u001b[0m\u001b[0;34m(\u001b[0m\u001b[0mnew\u001b[0m\u001b[0;34m//\u001b[0m\u001b[0;34m(\u001b[0m\u001b[0;36m10\u001b[0m\u001b[0;34m**\u001b[0m\u001b[0;34m(\u001b[0m\u001b[0mcount\u001b[0m\u001b[0;34m-\u001b[0m\u001b[0;36m1\u001b[0m\u001b[0;34m)\u001b[0m\u001b[0;34m)\u001b[0m\u001b[0;34m)\u001b[0m\u001b[0;34m\u001b[0m\u001b[0;34m\u001b[0m\u001b[0m\n\u001b[0;32m---> 10\u001b[0;31m   \u001b[0my\u001b[0m\u001b[0;34m=\u001b[0m\u001b[0mnew\u001b[0m\u001b[0;34m%\u001b[0m\u001b[0;34m(\u001b[0m\u001b[0;36m10\u001b[0m\u001b[0;34m**\u001b[0m\u001b[0mcount\u001b[0m\u001b[0;34m-\u001b[0m\u001b[0;36m1\u001b[0m\u001b[0;34m)\u001b[0m\u001b[0;34m\u001b[0m\u001b[0;34m\u001b[0m\u001b[0m\n\u001b[0m\u001b[1;32m     11\u001b[0m   \u001b[0mcount\u001b[0m\u001b[0;34m-=\u001b[0m\u001b[0;36m1\u001b[0m\u001b[0;34m\u001b[0m\u001b[0;34m\u001b[0m\u001b[0m\n",
      "\u001b[0;31mZeroDivisionError\u001b[0m: integer division or modulo by zero"
     ]
    }
   ],
   "source": [
    "n = int(input())\n",
    "count=0\n",
    "new=n\n",
    "while n>0:\n",
    "  count+=1\n",
    "  n=n//10\n",
    "#print(count)\n",
    "while new>0:\n",
    "  print(new//(10**(count-1)))\n",
    "  y=new%(10**count-1)\n",
    "  count-=1\n"
   ]
  },
  {
   "cell_type": "markdown",
   "metadata": {
    "id": "qpvQWkAHp048"
   },
   "source": [
    "Write a Python program that takes a number from the user and prints its digits from left to right.\n",
    "\n",
    "[Consider the input number to be an INTEGER. You are not allowed to use String indexing for solving this task]\n",
    "\n",
    "=========================================================================\n",
    "\n",
    "Example: if the user gives 32768, then print 3, 2, 7, 6, 8"
   ]
  },
  {
   "cell_type": "code",
   "execution_count": null,
   "metadata": {
    "colab": {
     "base_uri": "https://localhost:8080/"
    },
    "executionInfo": {
     "elapsed": 3861,
     "status": "ok",
     "timestamp": 1646629416096,
     "user": {
      "displayName": "SM AZMAIN FAYSAL",
      "photoUrl": "https://lh3.googleusercontent.com/a-/AOh14GjCng6Mjtfby41R5dsEKA1n8fdP6AhL2ANCfIEa=s64",
      "userId": "13640556625402637400"
     },
     "user_tz": -360
    },
    "id": "8HnbK_9Lp4Ki",
    "outputId": "f9a65555-a4df-4409-9ff5-6e8bdb84c1a2"
   },
   "outputs": [
    {
     "name": "stdout",
     "output_type": "stream",
     "text": [
      "321\n",
      "3,2,1\n"
     ]
    }
   ],
   "source": [
    "n=int(input())\n",
    "count=0\n",
    "new=n\n",
    "while n>0:\n",
    "  count+=1\n",
    "  n=n//10\n",
    "while new>0:\n",
    "  if new<10:\n",
    "    print(new//(10**(count-1)))\n",
    "    new=new%(10**(count-1))\n",
    "    count-=1\n",
    "  else:\n",
    "    print(new//(10**(count-1)),end=',')\n",
    "    new=new%(10**(count-1))\n",
    "    count-=1\n",
    "    \n"
   ]
  },
  {
   "cell_type": "markdown",
   "metadata": {
    "id": "IdVA-xXnxr14"
   },
   "source": [
    "Write a Python program that takes a number as input from the user and prints the divisors of that number as well as how many divisors the number has.\n",
    "\n",
    "==========================================================\n",
    "\n",
    "Sample Input 1:\n",
    "6\n",
    "\n",
    "Sample Output 1:\n",
    "1, 2, 3, 6\n",
    "Total 4 divisors."
   ]
  },
  {
   "cell_type": "code",
   "execution_count": null,
   "metadata": {
    "colab": {
     "base_uri": "https://localhost:8080/"
    },
    "executionInfo": {
     "elapsed": 2285,
     "status": "ok",
     "timestamp": 1646630398512,
     "user": {
      "displayName": "SM AZMAIN FAYSAL",
      "photoUrl": "https://lh3.googleusercontent.com/a-/AOh14GjCng6Mjtfby41R5dsEKA1n8fdP6AhL2ANCfIEa=s64",
      "userId": "13640556625402637400"
     },
     "user_tz": -360
    },
    "id": "9vZDPv7qxvZt",
    "outputId": "0955c256-ac44-4953-fb55-cc4e7b759d18"
   },
   "outputs": [
    {
     "name": "stdout",
     "output_type": "stream",
     "text": [
      "6\n",
      "1,2,3,6\n",
      "Total  4  divisors\n"
     ]
    }
   ],
   "source": [
    "n=int(input())\n",
    "count=0\n",
    "for i in range(1,n+1):\n",
    "  if n%i==0 and n==i:\n",
    "    print(i)\n",
    "    count+=1\n",
    "  elif n%i==0:\n",
    "    print(i,end=',')\n",
    "    count+=1\n",
    "  else:\n",
    "    pass\n",
    "print('Total ',count,' divisors')\n",
    "\n"
   ]
  },
  {
   "cell_type": "markdown",
   "metadata": {
    "id": "NauRFsXo0jQx"
   },
   "source": [
    "Write a Python program that takes a number as input from the user and tells if it is a perfect number or not.\n",
    "\n",
    "Perfect Number: An integer number is said to be a perfect number if its factors, including 1 but not the number itself, sum to the number.\n",
    "\n",
    "==========================================================\n",
    "\n",
    "Sample Input 1:\n",
    "6\n",
    "\n",
    "Sample Output 2:\n",
    "6 is a perfect number"
   ]
  },
  {
   "cell_type": "code",
   "execution_count": null,
   "metadata": {
    "colab": {
     "base_uri": "https://localhost:8080/"
    },
    "executionInfo": {
     "elapsed": 2280,
     "status": "ok",
     "timestamp": 1646632674284,
     "user": {
      "displayName": "SM AZMAIN FAYSAL",
      "photoUrl": "https://lh3.googleusercontent.com/a-/AOh14GjCng6Mjtfby41R5dsEKA1n8fdP6AhL2ANCfIEa=s64",
      "userId": "13640556625402637400"
     },
     "user_tz": -360
    },
    "id": "ThMpGiwz0j1y",
    "outputId": "516aef38-03b9-43a6-a720-65a292408074"
   },
   "outputs": [
    {
     "name": "stdout",
     "output_type": "stream",
     "text": [
      "33\n",
      "not perfect\n"
     ]
    }
   ],
   "source": [
    "n=int(input())\n",
    "sum=0\n",
    "for i in range(1,n):\n",
    "  if n%i==0:\n",
    "    sum=sum+i\n",
    "if sum==n:\n",
    "  print('perfect')\n",
    "else:\n",
    "  print('not perfect')\n"
   ]
  },
  {
   "cell_type": "markdown",
   "metadata": {
    "id": "U7euK7Fy9OpQ"
   },
   "source": [
    "Write a Python program that asks the user for one number and tells if it is a prime number or not.\n",
    "\n",
    "Prime Number: If a number has only two divisors, (1 and itself), then it is a prime number. If it is divisible by more numbers, then it is not a prime.\n",
    "\n",
    "Hint: You may use the code for counting divisors from Task 14.\n",
    "\n",
    "==========================================================\n",
    "\n",
    "Sample Input 1:\n",
    "11\n",
    "\n",
    "Sample Output 1:\n",
    "11 is a prime number"
   ]
  },
  {
   "cell_type": "code",
   "execution_count": null,
   "metadata": {
    "colab": {
     "base_uri": "https://localhost:8080/"
    },
    "executionInfo": {
     "elapsed": 2082,
     "status": "ok",
     "timestamp": 1646632934880,
     "user": {
      "displayName": "SM AZMAIN FAYSAL",
      "photoUrl": "https://lh3.googleusercontent.com/a-/AOh14GjCng6Mjtfby41R5dsEKA1n8fdP6AhL2ANCfIEa=s64",
      "userId": "13640556625402637400"
     },
     "user_tz": -360
    },
    "id": "0SQzCyv29RE3",
    "outputId": "8b43eabc-78e5-4d17-e5b4-15aa56ec4b22"
   },
   "outputs": [
    {
     "name": "stdout",
     "output_type": "stream",
     "text": [
      "6\n",
      "NOt a prime number\n"
     ]
    }
   ],
   "source": [
    "n= int(input())\n",
    "count=0\n",
    "for i in range(1,n+1):\n",
    "  if n%i==0:\n",
    "    count+=1\n",
    "if count==2:\n",
    "  print('Prime number')\n",
    "else:\n",
    "  print('NOt a prime number')"
   ]
  },
  {
   "cell_type": "markdown",
   "metadata": {
    "id": "jRCGBT7Y-N1j"
   },
   "source": [
    "Write a Python program that asks the user for a quantity, then takes that many numbers as input and prints the maximum, minimum and average of those numbers.\n",
    "\n",
    "[Please note that you CANNOT use max, min built-in functions]\n",
    "\n",
    "[Also, you DO NOT need to use lists for this task]\n",
    "\n",
    "==========================================================\n",
    "\n",
    "Example: If the user enters 5 as an input for quantity and the enters the 5 numbers, 10, 4, -1, -100, and 1.\n",
    "The output of your program should be: “Maximum 10”, “Minimum -100”, “Average is -17.2” as shown below.\n",
    "\n",
    "Input:\n",
    "5 10 4 -1 -100 1\n",
    "\n",
    "Output:\n",
    "Maximum 10\n",
    "Minimum -100\n",
    "Average is -17.2"
   ]
  },
  {
   "cell_type": "code",
   "execution_count": null,
   "metadata": {
    "colab": {
     "base_uri": "https://localhost:8080/"
    },
    "executionInfo": {
     "elapsed": 4715,
     "status": "ok",
     "timestamp": 1646634101737,
     "user": {
      "displayName": "SM AZMAIN FAYSAL",
      "photoUrl": "https://lh3.googleusercontent.com/a-/AOh14GjCng6Mjtfby41R5dsEKA1n8fdP6AhL2ANCfIEa=s64",
      "userId": "13640556625402637400"
     },
     "user_tz": -360
    },
    "id": "vPLIf-hY-NeM",
    "outputId": "31b77d5e-b84c-4728-aad6-4723863c19f1"
   },
   "outputs": [
    {
     "name": "stdout",
     "output_type": "stream",
     "text": [
      "1\n",
      "2\n",
      "2\n",
      "2\n",
      "2.0\n"
     ]
    }
   ],
   "source": [
    "q= int(input())\n",
    "sum=0\n",
    "max=-999999\n",
    "min=999999\n",
    "for i in range(q):\n",
    "  n=int(input())\n",
    "  sum=sum+n\n",
    "  if n>max:\n",
    "    max=n\n",
    "  if n<min:\n",
    "    min=n\n",
    "print(max)\n",
    "print(min)\n",
    "print(sum/q)"
   ]
  },
  {
   "cell_type": "markdown",
   "metadata": {
    "id": "nOegk1V5GJCw"
   },
   "source": [
    "Task 18\n",
    "Write a python program that prints a square of size N using + where N will be given as input as illustrated in the examples below.\n",
    "\n",
    "Hint: You may need to use nested loops to solve this problem.\n",
    "\n",
    "==========================================================\n",
    "\n",
    "Sample Input 1:\n",
    "\n",
    "5\n",
    "\n",
    "Sample Output 1:\n",
    "+++++\n",
    "+++++\n",
    "+++++\n",
    "+++++\n",
    "+++++"
   ]
  },
  {
   "cell_type": "code",
   "execution_count": null,
   "metadata": {
    "colab": {
     "base_uri": "https://localhost:8080/"
    },
    "executionInfo": {
     "elapsed": 3050,
     "status": "ok",
     "timestamp": 1646635428408,
     "user": {
      "displayName": "SM AZMAIN FAYSAL",
      "photoUrl": "https://lh3.googleusercontent.com/a-/AOh14GjCng6Mjtfby41R5dsEKA1n8fdP6AhL2ANCfIEa=s64",
      "userId": "13640556625402637400"
     },
     "user_tz": -360
    },
    "id": "wPsD4CBVGIdg",
    "outputId": "f5eac4f4-bc74-492a-956c-333073b1a209"
   },
   "outputs": [
    {
     "name": "stdout",
     "output_type": "stream",
     "text": [
      "5\n",
      "+++++\n",
      "+++++\n",
      "+++++\n",
      "+++++\n",
      "+++++\n"
     ]
    }
   ],
   "source": [
    "n=int(input())\n",
    "for i in range(n):\n",
    "  for j in range(n):\n",
    "    print('+',end='')\n",
    "  print()\n",
    "  "
   ]
  },
  {
   "cell_type": "markdown",
   "metadata": {
    "id": "HvNYM4ebIMP4"
   },
   "source": [
    "Write a Python program that takes a number from the user and generates the\n",
    "following pattern. If the user oven number Is NO greater than 4, then\n",
    "print \"Invalid input\"\n",
    "Sample Input1: 6\n",
    "Sample Outputt:\n",
    "######\n",
    "88##8&\n",
    "&8##＄8\n",
    "＆&##8&\n",
    "88#48&\n",
    "Sample Input2: 3\n",
    "Sample Output2:\n",
    "Invalid input"
   ]
  },
  {
   "cell_type": "code",
   "execution_count": null,
   "metadata": {
    "colab": {
     "base_uri": "https://localhost:8080/"
    },
    "executionInfo": {
     "elapsed": 2655,
     "status": "ok",
     "timestamp": 1646644782932,
     "user": {
      "displayName": "SM AZMAIN FAYSAL",
      "photoUrl": "https://lh3.googleusercontent.com/a-/AOh14GjCng6Mjtfby41R5dsEKA1n8fdP6AhL2ANCfIEa=s64",
      "userId": "13640556625402637400"
     },
     "user_tz": -360
    },
    "id": "BUVyvGjEINCo",
    "outputId": "02fc9cad-ef8f-4309-e38c-c835c89ea2fa"
   },
   "outputs": [
    {
     "name": "stdout",
     "output_type": "stream",
     "text": [
      "6\n",
      "######\n",
      "&&##&&\n",
      "&&##&&\n",
      "&&##&&\n",
      "&&##&&\n",
      "######\n"
     ]
    }
   ],
   "source": [
    "n=int(input())\n",
    "if n>4:\n",
    "  for row in range(1):\n",
    "    for column in range(n):\n",
    "      print('#',end='')\n",
    "    print()\n",
    "  for row in range(2,n):\n",
    "    for column in range(0,2):\n",
    "      print('&',end='')\n",
    "    for column in range(2,4):\n",
    "      print('#',end='')\n",
    "    for column in range(4,6):\n",
    "      print('&',end='')\n",
    "    print()\n",
    "  for row in range(n-1,n):\n",
    "    for column in range(n):\n",
    "      print('#',end='')\n",
    "  print()\n",
    "else:\n",
    "  print('Invalid input')\n",
    "\n"
   ]
  },
  {
   "cell_type": "code",
   "execution_count": null,
   "metadata": {
    "colab": {
     "base_uri": "https://localhost:8080/"
    },
    "executionInfo": {
     "elapsed": 2750,
     "status": "ok",
     "timestamp": 1646645329777,
     "user": {
      "displayName": "SM AZMAIN FAYSAL",
      "photoUrl": "https://lh3.googleusercontent.com/a-/AOh14GjCng6Mjtfby41R5dsEKA1n8fdP6AhL2ANCfIEa=s64",
      "userId": "13640556625402637400"
     },
     "user_tz": -360
    },
    "id": "52MjzZeUs6w7",
    "outputId": "ab267228-0ffe-4041-c412-77c76481ca94"
   },
   "outputs": [
    {
     "name": "stdout",
     "output_type": "stream",
     "text": [
      "Enter a number:7\n",
      "#######\n",
      "&&###&&\n",
      "&&###&&\n",
      "&&###&&\n",
      "&&###&&\n",
      "&&###&&\n",
      "#######\n"
     ]
    }
   ],
   "source": [
    "num = int(input(\"Enter a number:\"))\n",
    "\n",
    "if num>4:\n",
    "    for i in range(num):\n",
    "        for j in range(num):\n",
    "            if i == 0 or i == (num - 1):\n",
    "                print(\"#\", end=\"\")\n",
    "            else:\n",
    "                half = num // 2\n",
    "                if num%2 != 0:\n",
    "\n",
    "                    if j == (half-1) or j== (half +1) or j == (half):\n",
    "                        print(\"#\", end = \"\")\n",
    "                    else:\n",
    "                        print(\"&\", end = \"\")\n",
    "                else:\n",
    "\n",
    "                    if j == (half) or j == (half-1):\n",
    "                        print(\"#\", end = \"\")\n",
    "                    else:\n",
    "                        print(\"&\", end = \"\")\n",
    "        print()\n",
    "else:\n",
    "    print(\"Invalid Number\")"
   ]
  },
  {
   "cell_type": "markdown",
   "metadata": {
    "id": "zJFaVpMDwKmn"
   },
   "source": [
    "Write a python program that prints a rectangle of size M (height/line numbers) and N (length/column numbers) using incrementing numbers where M and N will be given as input. Please look at the examples below for clarification.\n",
    "\n",
    "Hint: You may need to use nested loops and print the loop counter variable in one of the loops.\n",
    "\n",
    "==========================================================\n",
    "\n",
    "Sample Input 1:\n",
    "4\n",
    "6\n",
    "\n",
    "Sample Output 1:\n",
    "123456\n",
    "123456\n",
    "123456\n",
    "123456"
   ]
  },
  {
   "cell_type": "code",
   "execution_count": null,
   "metadata": {
    "colab": {
     "base_uri": "https://localhost:8080/"
    },
    "executionInfo": {
     "elapsed": 3996,
     "status": "ok",
     "timestamp": 1646646238717,
     "user": {
      "displayName": "SM AZMAIN FAYSAL",
      "photoUrl": "https://lh3.googleusercontent.com/a-/AOh14GjCng6Mjtfby41R5dsEKA1n8fdP6AhL2ANCfIEa=s64",
      "userId": "13640556625402637400"
     },
     "user_tz": -360
    },
    "id": "ZbaI0BoNwLgW",
    "outputId": "76cc2685-17e4-461d-b3c9-e20a03371fbf"
   },
   "outputs": [
    {
     "name": "stdout",
     "output_type": "stream",
     "text": [
      "4\n",
      "6\n",
      "123456\n",
      "123456\n",
      "123456\n"
     ]
    }
   ],
   "source": [
    "row=int(input())\n",
    "column=int(input())\n",
    "for i in range(1,row):\n",
    "  for j in range(1,column+1):\n",
    "    print(j,end='')\n",
    "  print()"
   ]
  },
  {
   "cell_type": "markdown",
   "metadata": {
    "id": "gbGR7PyIxFws"
   },
   "source": [
    "Sample Input 1:\n",
    "4\n",
    "\n",
    "Sample Output 1:\n",
    "1\n",
    "12\n",
    "123\n",
    "1234"
   ]
  },
  {
   "cell_type": "code",
   "execution_count": null,
   "metadata": {
    "id": "cYRZF6d1xMdR"
   },
   "outputs": [],
   "source": [
    "n=int(input())\n",
    "for i range(1,n):\n",
    "  print(i)\n",
    "  "
   ]
  },
  {
   "cell_type": "code",
   "execution_count": null,
   "metadata": {
    "colab": {
     "base_uri": "https://localhost:8080/"
    },
    "executionInfo": {
     "elapsed": 2332,
     "status": "ok",
     "timestamp": 1646647840762,
     "user": {
      "displayName": "SM AZMAIN FAYSAL",
      "photoUrl": "https://lh3.googleusercontent.com/a-/AOh14GjCng6Mjtfby41R5dsEKA1n8fdP6AhL2ANCfIEa=s64",
      "userId": "13640556625402637400"
     },
     "user_tz": -360
    },
    "id": "NGo5F90J0epJ",
    "outputId": "0bf6ceee-b457-43f6-93bc-9b070fe57475"
   },
   "outputs": [
    {
     "name": "stdout",
     "output_type": "stream",
     "text": [
      "10\n",
      "0 1 1 2 3 5 8 "
     ]
    }
   ],
   "source": [
    "n=int(input())\n",
    "p=0\n",
    "q=1\n",
    "if n==1:\n",
    "  print(p,end=' ')\n",
    "elif n==2:\n",
    "  print(p,end=' ')\n",
    "  print(q,end=' ')\n",
    "else:\n",
    "  print(p,end=' ')\n",
    "  print(q,end=' ')\n",
    "  for i in range(1,n-1):\n",
    "    r=p+q\n",
    "    p=q\n",
    "    q=r\n",
    "    if r<n:\n",
    "      print(r,end=' ')"
   ]
  },
  {
   "cell_type": "code",
   "execution_count": null,
   "metadata": {
    "colab": {
     "base_uri": "https://localhost:8080/"
    },
    "executionInfo": {
     "elapsed": 2587,
     "status": "ok",
     "timestamp": 1646669006121,
     "user": {
      "displayName": "SM AZMAIN FAYSAL",
      "photoUrl": "https://lh3.googleusercontent.com/a-/AOh14GjCng6Mjtfby41R5dsEKA1n8fdP6AhL2ANCfIEa=s64",
      "userId": "13640556625402637400"
     },
     "user_tz": -360
    },
    "id": "ePgxOUBH6rcN",
    "outputId": "cc178422-4f9e-47e1-d09e-9cadb830b00f"
   },
   "outputs": [
    {
     "name": "stdout",
     "output_type": "stream",
     "text": [
      "10\n",
      "01010"
     ]
    }
   ],
   "source": [
    "dec= int(input())\n",
    "for i in range(dec//2): #karon 2diye vag korle jotobar jaay totobar e to neya lagtese\n",
    "  rem=dec%2\n",
    "  dec=dec//2\n",
    "  print(rem,end='')"
   ]
  },
  {
   "cell_type": "markdown",
   "metadata": {
    "id": "pZqr44HzvhhI"
   },
   "source": [
    "Task 23\n",
    "Write a python program that converts a binary number to a decimal integer number after taking the binary number as an input from the user.\n",
    "\n",
    "Note: A binary number can be converted to its corresponding decimal number by multiplying each binary digit with a power of 2, where the power denotes the position of the binary digit\n",
    "\n",
    "==========================================================\n",
    "\n",
    "Example 1:\n",
    "\n",
    "For example, to convert 1010 to decimal, we can do this\n",
    "\n",
    "23  x 1 +  22  x 0 +  21  x 1 +  20  x 0 = 10\n",
    "\n",
    "Sample Input 1:\n",
    "1010\n",
    "\n",
    "Sample Output 1:\n",
    "10"
   ]
  },
  {
   "cell_type": "code",
   "execution_count": null,
   "metadata": {
    "colab": {
     "base_uri": "https://localhost:8080/"
    },
    "executionInfo": {
     "elapsed": 3919,
     "status": "ok",
     "timestamp": 1646663399500,
     "user": {
      "displayName": "SM AZMAIN FAYSAL",
      "photoUrl": "https://lh3.googleusercontent.com/a-/AOh14GjCng6Mjtfby41R5dsEKA1n8fdP6AhL2ANCfIEa=s64",
      "userId": "13640556625402637400"
     },
     "user_tz": -360
    },
    "id": "bfnkqv9evhre",
    "outputId": "1ee9602b-fbcd-4c8f-8d23-f26ccef1596d"
   },
   "outputs": [
    {
     "name": "stdout",
     "output_type": "stream",
     "text": [
      "enter a number: 10101100\n",
      "172\n"
     ]
    }
   ],
   "source": [
    "bin = input('enter a number: ')\n",
    "dec = 0\n",
    "for i in bin:\n",
    "    dec = dec*2 + int(i)\n",
    "print (dec)\n"
   ]
  },
  {
   "cell_type": "markdown",
   "metadata": {
    "id": "ZYt65LEzy_2_"
   },
   "source": [
    "Task 1\n",
    "Write a Python program that takes a String as an input from the user and prints that String in reverse order.\n",
    "\n",
    "You cannot use the built-in reverse() function for this task.\n",
    "\n",
    "=====================================================================\n",
    "\n",
    "Sample Input 1:\n",
    "CSE110\n",
    "\n",
    "Sample Output 1:\n",
    "011ESC"
   ]
  },
  {
   "cell_type": "code",
   "execution_count": null,
   "metadata": {
    "colab": {
     "base_uri": "https://localhost:8080/"
    },
    "executionInfo": {
     "elapsed": 5079,
     "status": "ok",
     "timestamp": 1646663659449,
     "user": {
      "displayName": "SM AZMAIN FAYSAL",
      "photoUrl": "https://lh3.googleusercontent.com/a-/AOh14GjCng6Mjtfby41R5dsEKA1n8fdP6AhL2ANCfIEa=s64",
      "userId": "13640556625402637400"
     },
     "user_tz": -360
    },
    "id": "5xsVtPVnzEKe",
    "outputId": "ede9959c-67f8-4205-e09c-91da6aca9969"
   },
   "outputs": [
    {
     "name": "stdout",
     "output_type": "stream",
     "text": [
      "CSE110\n",
      "011ESC\n"
     ]
    }
   ],
   "source": [
    "n= input()\n",
    "print(n[-1::-1])"
   ]
  },
  {
   "cell_type": "markdown",
   "metadata": {
    "id": "d6U92FymzYB2"
   },
   "source": [
    "Write a python program that takes 2 inputs from the user, where the first input is a string with length greater than 1. The second input is the index of the first given string from where you have to start reversing. After reversing the first input string from that index, print the new string back to the user. See samples below for clarification.\n",
    "\n",
    "=====================================================================\n",
    "\n",
    "Sample Input 1:\n",
    "\n",
    "aBcd1234defg\n",
    "\n",
    "5\n",
    "\n",
    "Sample Output 3:\n",
    "\n",
    "21dcBa34defg"
   ]
  },
  {
   "cell_type": "code",
   "execution_count": null,
   "metadata": {
    "colab": {
     "base_uri": "https://localhost:8080/"
    },
    "executionInfo": {
     "elapsed": 3801,
     "status": "ok",
     "timestamp": 1646663967095,
     "user": {
      "displayName": "SM AZMAIN FAYSAL",
      "photoUrl": "https://lh3.googleusercontent.com/a-/AOh14GjCng6Mjtfby41R5dsEKA1n8fdP6AhL2ANCfIEa=s64",
      "userId": "13640556625402637400"
     },
     "user_tz": -360
    },
    "id": "NBrVNY9bzbsz",
    "outputId": "e64608f7-6133-45ed-f4f8-a49640cd0ea3"
   },
   "outputs": [
    {
     "name": "stdout",
     "output_type": "stream",
     "text": [
      "aBcd1234defg\n",
      "5\n",
      "21dcBa34defg\n"
     ]
    }
   ],
   "source": [
    "n=input()\n",
    "x=int(input())\n",
    "print(n[x::-1],end='')\n",
    "print(n[x+1::1])\n"
   ]
  },
  {
   "cell_type": "markdown",
   "metadata": {
    "id": "8nQ1o8jv0j-D"
   },
   "source": [
    "Write a program that takes a string as input and prints “Binary Number” if the string contains only 0s or 1s. Otherwise, print “Not a Binary Number”.\n",
    "\n",
    "=====================================================================\n",
    "\n",
    "Sample Input 1:\n",
    "01101101101\n",
    "\n",
    "Sample Output 1:\n",
    "Binary Number"
   ]
  },
  {
   "cell_type": "code",
   "execution_count": null,
   "metadata": {
    "colab": {
     "base_uri": "https://localhost:8080/"
    },
    "executionInfo": {
     "elapsed": 3147,
     "status": "ok",
     "timestamp": 1646664765698,
     "user": {
      "displayName": "SM AZMAIN FAYSAL",
      "photoUrl": "https://lh3.googleusercontent.com/a-/AOh14GjCng6Mjtfby41R5dsEKA1n8fdP6AhL2ANCfIEa=s64",
      "userId": "13640556625402637400"
     },
     "user_tz": -360
    },
    "id": "iA353b_Q06HD",
    "outputId": "532315b8-310c-45d2-e12c-9b299cab57db"
   },
   "outputs": [
    {
     "name": "stdout",
     "output_type": "stream",
     "text": [
      "10202\n",
      "Not a binary number \n"
     ]
    }
   ],
   "source": [
    "n = input()\n",
    "count=0\n",
    "bin='01'\n",
    "for i in n:\n",
    "  if i not in bin:\n",
    "    count=1\n",
    "    break\n",
    "  else:\n",
    "    pass\n",
    "if count==1:\n",
    "  print('Not a binary number ')\n",
    "else:\n",
    "  print('Binary number')"
   ]
  },
  {
   "cell_type": "code",
   "execution_count": null,
   "metadata": {
    "colab": {
     "base_uri": "https://localhost:8080/"
    },
    "executionInfo": {
     "elapsed": 3391,
     "status": "ok",
     "timestamp": 1646666826580,
     "user": {
      "displayName": "SM AZMAIN FAYSAL",
      "photoUrl": "https://lh3.googleusercontent.com/a-/AOh14GjCng6Mjtfby41R5dsEKA1n8fdP6AhL2ANCfIEa=s64",
      "userId": "13640556625402637400"
     },
     "user_tz": -360
    },
    "id": "wOAck23m-fY5",
    "outputId": "160b86a7-1cb0-46f0-81f3-1d312987385d"
   },
   "outputs": [
    {
     "name": "stdout",
     "output_type": "stream",
     "text": [
      "stronger\n",
      "strongest\n"
     ]
    }
   ],
   "source": [
    "n=input()\n",
    "if 'er'in n:\n",
    "  n=n.replace('er','est')\n",
    "  print(n)\n",
    "elif 'est' in n:\n",
    "  print(n)\n",
    "elif len(n)<3:\n",
    "  print(n)\n",
    "else:\n",
    "  print(n,end='er')"
   ]
  },
  {
   "cell_type": "code",
   "execution_count": null,
   "metadata": {
    "colab": {
     "base_uri": "https://localhost:8080/"
    },
    "executionInfo": {
     "elapsed": 3770,
     "status": "ok",
     "timestamp": 1646667175504,
     "user": {
      "displayName": "SM AZMAIN FAYSAL",
      "photoUrl": "https://lh3.googleusercontent.com/a-/AOh14GjCng6Mjtfby41R5dsEKA1n8fdP6AhL2ANCfIEa=s64",
      "userId": "13640556625402637400"
     },
     "user_tz": -360
    },
    "id": "Og6WNhRp_eLT",
    "outputId": "a8fcd551-b131-4752-9a10-a11daf4ffe9b"
   },
   "outputs": [
    {
     "name": "stdout",
     "output_type": "stream",
     "text": [
      "ban\n",
      "b\n",
      "ba\n",
      "ban\n"
     ]
    }
   ],
   "source": [
    "n=input()\n",
    "for i in range(len(n)):\n",
    "  for j in range(i+1):\n",
    "    print(n[j],end='')\n",
    "  print()"
   ]
  },
  {
   "cell_type": "code",
   "execution_count": null,
   "metadata": {
    "colab": {
     "base_uri": "https://localhost:8080/"
    },
    "executionInfo": {
     "elapsed": 335,
     "status": "ok",
     "timestamp": 1646668060228,
     "user": {
      "displayName": "SM AZMAIN FAYSAL",
      "photoUrl": "https://lh3.googleusercontent.com/a-/AOh14GjCng6Mjtfby41R5dsEKA1n8fdP6AhL2ANCfIEa=s64",
      "userId": "13640556625402637400"
     },
     "user_tz": -360
    },
    "id": "iDgmvp6tD1Od",
    "outputId": "e580a98b-d2f8-4fd6-bbde-7c0d572b4c7b"
   },
   "outputs": [
    {
     "name": "stdout",
     "output_type": "stream",
     "text": [
      "0\n",
      "0\n",
      "0\n",
      "1\n"
     ]
    }
   ],
   "source": [
    "for i in range(1):\n",
    "  for j in range(2):\n",
    "    print(i)\n",
    "    print(j)"
   ]
  },
  {
   "cell_type": "code",
   "execution_count": null,
   "metadata": {
    "colab": {
     "base_uri": "https://localhost:8080/"
    },
    "executionInfo": {
     "elapsed": 4718,
     "status": "ok",
     "timestamp": 1646729934390,
     "user": {
      "displayName": "SM AZMAIN FAYSAL",
      "photoUrl": "https://lh3.googleusercontent.com/a-/AOh14GjCng6Mjtfby41R5dsEKA1n8fdP6AhL2ANCfIEa=s64",
      "userId": "13640556625402637400"
     },
     "user_tz": -360
    },
    "id": "URd9V6s6vrea",
    "outputId": "d34c351a-81fc-4697-b4f5-9e8da90f495f"
   },
   "outputs": [
    {
     "name": "stdout",
     "output_type": "stream",
     "text": [
      "hello\n",
      "h :  104\n",
      "e :  101\n",
      "l :  108\n",
      "l :  108\n",
      "o :  111\n"
     ]
    }
   ],
   "source": [
    "n = input()\n",
    "for i in n:\n",
    "  print(i,': ',ord(i))"
   ]
  },
  {
   "cell_type": "code",
   "execution_count": null,
   "metadata": {
    "colab": {
     "base_uri": "https://localhost:8080/"
    },
    "executionInfo": {
     "elapsed": 4425,
     "status": "ok",
     "timestamp": 1646730572825,
     "user": {
      "displayName": "SM AZMAIN FAYSAL",
      "photoUrl": "https://lh3.googleusercontent.com/a-/AOh14GjCng6Mjtfby41R5dsEKA1n8fdP6AhL2ANCfIEa=s64",
      "userId": "13640556625402637400"
     },
     "user_tz": -360
    },
    "id": "8a1u3jpJwVi5",
    "outputId": "2f13c6d4-25a0-4388-dfc4-76fcec1f44da"
   },
   "outputs": [
    {
     "name": "stdout",
     "output_type": "stream",
     "text": [
      "xyz\n",
      "yza"
     ]
    }
   ],
   "source": [
    "n=input()\n",
    "for i in range(len(n)):\n",
    "  x=ord(n[i])\n",
    "  if x==122:\n",
    "    print('a',end='')\n",
    "  else:\n",
    "    x=x+1\n",
    "    print(chr(x),end='')\n"
   ]
  },
  {
   "cell_type": "code",
   "execution_count": null,
   "metadata": {
    "colab": {
     "base_uri": "https://localhost:8080/"
    },
    "executionInfo": {
     "elapsed": 3551,
     "status": "ok",
     "timestamp": 1646731044021,
     "user": {
      "displayName": "SM AZMAIN FAYSAL",
      "photoUrl": "https://lh3.googleusercontent.com/a-/AOh14GjCng6Mjtfby41R5dsEKA1n8fdP6AhL2ANCfIEa=s64",
      "userId": "13640556625402637400"
     },
     "user_tz": -360
    },
    "id": "NQBxybpmyo-e",
    "outputId": "1e764558-0215-4764-c62c-3a97098c78d2"
   },
   "outputs": [
    {
     "name": "stdout",
     "output_type": "stream",
     "text": [
      "abcd\n",
      "BD"
     ]
    }
   ],
   "source": [
    "n=input()\n",
    "for i in range(1,len(n)+1,2):\n",
    "  x=ord(n[i])-32\n",
    "  print(chr(x),end='')"
   ]
  },
  {
   "cell_type": "code",
   "execution_count": null,
   "metadata": {
    "colab": {
     "base_uri": "https://localhost:8080/"
    },
    "executionInfo": {
     "elapsed": 5531,
     "status": "ok",
     "timestamp": 1646731583387,
     "user": {
      "displayName": "SM AZMAIN FAYSAL",
      "photoUrl": "https://lh3.googleusercontent.com/a-/AOh14GjCng6Mjtfby41R5dsEKA1n8fdP6AhL2ANCfIEa=s64",
      "userId": "13640556625402637400"
     },
     "user_tz": -360
    },
    "id": "E5Q2GJ5-0fBF",
    "outputId": "b9a822de-5a67-4c1f-90f8-6cb1de611cda"
   },
   "outputs": [
    {
     "name": "stdout",
     "output_type": "stream",
     "text": [
      "abc,nj\n",
      ",\n",
      "abc\n",
      "nj"
     ]
    }
   ],
   "source": [
    "n=input()\n",
    "x=input()\n",
    "for i in range(len(n)):\n",
    "  if n[i]==x:\n",
    "    print('')\n",
    "  else:\n",
    "    print(n[i],end='')"
   ]
  },
  {
   "cell_type": "code",
   "execution_count": null,
   "metadata": {
    "colab": {
     "base_uri": "https://localhost:8080/"
    },
    "executionInfo": {
     "elapsed": 3764,
     "status": "ok",
     "timestamp": 1646732815832,
     "user": {
      "displayName": "SM AZMAIN FAYSAL",
      "photoUrl": "https://lh3.googleusercontent.com/a-/AOh14GjCng6Mjtfby41R5dsEKA1n8fdP6AhL2ANCfIEa=s64",
      "userId": "13640556625402637400"
     },
     "user_tz": -360
    },
    "id": "Rtg9kpw35tMA",
    "outputId": "eb650cc9-064a-4c00-d3f0-37f4b4ce192d"
   },
   "outputs": [
    {
     "name": "stdout",
     "output_type": "stream",
     "text": [
      "aaaaaaaaaaaaaaaaaaa\n",
      "a\n"
     ]
    }
   ],
   "source": [
    "n=input()\n",
    "x=n[0]\n",
    "y=n[0]\n",
    "for i in n[1:]:\n",
    "  if i!=x:\n",
    "    y+=i\n",
    "    x=i\n",
    "print(y)"
   ]
  },
  {
   "cell_type": "code",
   "execution_count": null,
   "metadata": {
    "colab": {
     "base_uri": "https://localhost:8080/"
    },
    "executionInfo": {
     "elapsed": 27792,
     "status": "ok",
     "timestamp": 1646733412597,
     "user": {
      "displayName": "SM AZMAIN FAYSAL",
      "photoUrl": "https://lh3.googleusercontent.com/a-/AOh14GjCng6Mjtfby41R5dsEKA1n8fdP6AhL2ANCfIEa=s64",
      "userId": "13640556625402637400"
     },
     "user_tz": -360
    },
    "id": "gSaB-6ui79w5",
    "outputId": "175bd1f0-15d8-4b48-fbbe-b7625355c406"
   },
   "outputs": [
    {
     "name": "stdout",
     "output_type": "stream",
     "text": [
      "eren yeager\n",
      "k\n",
      "ren yeage\n"
     ]
    }
   ],
   "source": [
    "x=input()\n",
    "y=input()\n",
    "if y in x:\n",
    "  z=x.replace(y,'')\n",
    "  print(z)\n",
    "else:\n",
    "  if len(x)>3:\n",
    "    print(x[1:-1])\n",
    "  else:\n",
    "    print(x)"
   ]
  },
  {
   "cell_type": "code",
   "execution_count": null,
   "metadata": {
    "colab": {
     "base_uri": "https://localhost:8080/"
    },
    "executionInfo": {
     "elapsed": 2944,
     "status": "ok",
     "timestamp": 1646734416512,
     "user": {
      "displayName": "SM AZMAIN FAYSAL",
      "photoUrl": "https://lh3.googleusercontent.com/a-/AOh14GjCng6Mjtfby41R5dsEKA1n8fdP6AhL2ANCfIEa=s64",
      "userId": "13640556625402637400"
     },
     "user_tz": -360
    },
    "id": "6T_xCAEO9gTj",
    "outputId": "a0c4d5ff-39f1-48a8-9d58-3aaf231f28fa"
   },
   "outputs": [
    {
     "name": "stdout",
     "output_type": "stream",
     "text": [
      "45\n",
      "45\n"
     ]
    }
   ],
   "source": [
    "s=input()\n",
    "l=s.split(', ')\n"
   ]
  },
  {
   "cell_type": "code",
   "execution_count": null,
   "metadata": {
    "id": "C-axImf1EQkm"
   },
   "outputs": [],
   "source": [
    "n=input()\n",
    "x='@'\n",
    "for x in n:\n",
    "  "
   ]
  },
  {
   "cell_type": "code",
   "execution_count": null,
   "metadata": {
    "colab": {
     "base_uri": "https://localhost:8080/"
    },
    "executionInfo": {
     "elapsed": 3301,
     "status": "ok",
     "timestamp": 1646744337960,
     "user": {
      "displayName": "SM AZMAIN FAYSAL",
      "photoUrl": "https://lh3.googleusercontent.com/a-/AOh14GjCng6Mjtfby41R5dsEKA1n8fdP6AhL2ANCfIEa=s64",
      "userId": "13640556625402637400"
     },
     "user_tz": -360
    },
    "id": "b7RC81SKjsVr",
    "outputId": "d6506029-5e38-49f9-f995-6a7cfb5b0113"
   },
   "outputs": [
    {
     "name": "stdout",
     "output_type": "stream",
     "text": [
      "1455\n",
      "500tk: 2 notes\n",
      "100 : 4\n",
      "50 : 1\n",
      "20 :  0\n",
      "10 :  0\n",
      "2 :  0\n",
      "one : 0\n"
     ]
    }
   ],
   "source": [
    "n=int(input())\n",
    "fivehun=n//500\n",
    "n=n%500\n",
    "hun=n//100\n",
    "n=n%100\n",
    "fifty=n//50\n",
    "n=n%50\n",
    "twen=n//20\n",
    "n=n%20\n",
    "ten=n//10\n",
    "n=n%10\n",
    "five=n//5\n",
    "n=n%5\n",
    "two=n//2\n",
    "n=n%2\n",
    "one=n//1\n",
    "print('500tk:',fivehun,'notes')\n",
    "print('100 :',hun)\n",
    "print('50 :',fifty)\n",
    "print('20 : ',twen)\n",
    "print('10 : ',ten)\n",
    "print('2 : ',two)\n",
    "print('one :',one)\n",
    "\n",
    "\n"
   ]
  },
  {
   "cell_type": "code",
   "execution_count": null,
   "metadata": {
    "colab": {
     "base_uri": "https://localhost:8080/"
    },
    "executionInfo": {
     "elapsed": 461,
     "status": "ok",
     "timestamp": 1646748244292,
     "user": {
      "displayName": "SM AZMAIN FAYSAL",
      "photoUrl": "https://lh3.googleusercontent.com/a-/AOh14GjCng6Mjtfby41R5dsEKA1n8fdP6AhL2ANCfIEa=s64",
      "userId": "13640556625402637400"
     },
     "user_tz": -360
    },
    "id": "LlLeS6xf10ry",
    "outputId": "db24a842-cd7b-43d4-d5d5-6ecfe7eb2cdd"
   },
   "outputs": [
    {
     "name": "stdout",
     "output_type": "stream",
     "text": [
      "24,18,12,6,0,-6\n"
     ]
    }
   ],
   "source": [
    "for i in range(24,-7,-6):\n",
    "  if i ==-6:\n",
    "    print(i)\n",
    "  else:\n",
    "    print(i,end=',')"
   ]
  },
  {
   "cell_type": "code",
   "execution_count": null,
   "metadata": {
    "colab": {
     "base_uri": "https://localhost:8080/"
    },
    "executionInfo": {
     "elapsed": 5998,
     "status": "ok",
     "timestamp": 1646750330879,
     "user": {
      "displayName": "SM AZMAIN FAYSAL",
      "photoUrl": "https://lh3.googleusercontent.com/a-/AOh14GjCng6Mjtfby41R5dsEKA1n8fdP6AhL2ANCfIEa=s64",
      "userId": "13640556625402637400"
     },
     "user_tz": -360
    },
    "id": "mlbl6hah92iD",
    "outputId": "d9e58d4d-4e0f-413b-ea2c-7020a8cba95a"
   },
   "outputs": [
    {
     "name": "stdout",
     "output_type": "stream",
     "text": [
      "toyota\n",
      "5\n",
      "toyota\n",
      "toyota\n",
      "toyota\n",
      "toyota\n",
      "toyota\n"
     ]
    }
   ],
   "source": [
    "x=input()\n",
    "y=int(input())\n",
    "for i in range(y):\n",
    "  print(x)"
   ]
  },
  {
   "cell_type": "code",
   "execution_count": null,
   "metadata": {
    "colab": {
     "base_uri": "https://localhost:8080/"
    },
    "executionInfo": {
     "elapsed": 2689,
     "status": "ok",
     "timestamp": 1646751971191,
     "user": {
      "displayName": "SM AZMAIN FAYSAL",
      "photoUrl": "https://lh3.googleusercontent.com/a-/AOh14GjCng6Mjtfby41R5dsEKA1n8fdP6AhL2ANCfIEa=s64",
      "userId": "13640556625402637400"
     },
     "user_tz": -360
    },
    "id": "zsZztMmgD3cU",
    "outputId": "0bcd2af3-70b2-4bd8-eb75-0d314654ebfc"
   },
   "outputs": [
    {
     "name": "stdout",
     "output_type": "stream",
     "text": [
      "321\n",
      "1,2,3\n"
     ]
    }
   ],
   "source": [
    "n=int(input())\n",
    "while n>0:\n",
    "  if n<10:\n",
    "    print(n%10)\n",
    "    n=n//10\n",
    "  else:\n",
    "    print(n%10,end=',')\n",
    "    n=n//10"
   ]
  },
  {
   "cell_type": "code",
   "execution_count": null,
   "metadata": {
    "colab": {
     "base_uri": "https://localhost:8080/"
    },
    "executionInfo": {
     "elapsed": 3744,
     "status": "ok",
     "timestamp": 1646752951079,
     "user": {
      "displayName": "SM AZMAIN FAYSAL",
      "photoUrl": "https://lh3.googleusercontent.com/a-/AOh14GjCng6Mjtfby41R5dsEKA1n8fdP6AhL2ANCfIEa=s64",
      "userId": "13640556625402637400"
     },
     "user_tz": -360
    },
    "id": "o6j_A9ftHv8N",
    "outputId": "22189532-4609-4695-fed4-a6e241463186"
   },
   "outputs": [
    {
     "name": "stdout",
     "output_type": "stream",
     "text": [
      "2020\n",
      "4\n"
     ]
    }
   ],
   "source": [
    "n=int(input())\n",
    "count=0\n",
    "while n>0:\n",
    "  n=n//10\n",
    "  count+=1\n",
    "print(count)"
   ]
  },
  {
   "cell_type": "code",
   "execution_count": null,
   "metadata": {
    "colab": {
     "base_uri": "https://localhost:8080/"
    },
    "executionInfo": {
     "elapsed": 22268,
     "status": "ok",
     "timestamp": 1646754583264,
     "user": {
      "displayName": "SM AZMAIN FAYSAL",
      "photoUrl": "https://lh3.googleusercontent.com/a-/AOh14GjCng6Mjtfby41R5dsEKA1n8fdP6AhL2ANCfIEa=s64",
      "userId": "13640556625402637400"
     },
     "user_tz": -360
    },
    "id": "XmL4aVQyN8uj",
    "outputId": "aadf8dbc-ec07-4835-f231-4e7a2f069631"
   },
   "outputs": [
    {
     "name": "stdout",
     "output_type": "stream",
     "text": [
      "Please enter your number : 5\n",
      "Please enter number :1\n",
      "Please enter number :2\n",
      "Please enter number :3\n",
      "Please enter number :4\n",
      "Please enter number :5\n",
      "Maximum  5\n",
      "Minimum  1\n",
      "Average  3.0\n"
     ]
    }
   ],
   "source": [
    "quantity = int(input('Please enter your number : '))\n",
    "sum = 0\n",
    "min=9999999\n",
    "max=-999999\n",
    "for i in range(quantity):\n",
    "  num=int(input('Please enter number :'))\n",
    "  sum = sum+num\n",
    "  if num>max:\n",
    "    max=num\n",
    "  if num<min:\n",
    "    min=num\n",
    "avg=sum/quantity\n",
    "print('Maximum ',max)\n",
    "print('Minimum ',min)\n",
    "print('Average ',avg)"
   ]
  },
  {
   "cell_type": "code",
   "execution_count": null,
   "metadata": {
    "colab": {
     "base_uri": "https://localhost:8080/"
    },
    "executionInfo": {
     "elapsed": 1866,
     "status": "ok",
     "timestamp": 1646754939016,
     "user": {
      "displayName": "SM AZMAIN FAYSAL",
      "photoUrl": "https://lh3.googleusercontent.com/a-/AOh14GjCng6Mjtfby41R5dsEKA1n8fdP6AhL2ANCfIEa=s64",
      "userId": "13640556625402637400"
     },
     "user_tz": -360
    },
    "id": "oNHu2VrxPQ7H",
    "outputId": "c9c741c6-912c-4916-9205-8ae24c856796"
   },
   "outputs": [
    {
     "name": "stdout",
     "output_type": "stream",
     "text": [
      "5\n",
      "+++++\n",
      "+++++\n",
      "+++++\n",
      "+++++\n",
      "+++++\n"
     ]
    }
   ],
   "source": [
    "n=int(input())\n",
    "for i in range(n):\n",
    "  for j in range(n):\n",
    "    print('+',end='')\n",
    "  print()"
   ]
  },
  {
   "cell_type": "code",
   "execution_count": null,
   "metadata": {
    "colab": {
     "base_uri": "https://localhost:8080/"
    },
    "executionInfo": {
     "elapsed": 4142,
     "status": "ok",
     "timestamp": 1646755247163,
     "user": {
      "displayName": "SM AZMAIN FAYSAL",
      "photoUrl": "https://lh3.googleusercontent.com/a-/AOh14GjCng6Mjtfby41R5dsEKA1n8fdP6AhL2ANCfIEa=s64",
      "userId": "13640556625402637400"
     },
     "user_tz": -360
    },
    "id": "Hn-a9L_OQXHB",
    "outputId": "a98bb75f-ab52-4c76-ae05-d10840c43b28"
   },
   "outputs": [
    {
     "name": "stdout",
     "output_type": "stream",
     "text": [
      "4\n",
      "5\n",
      "12345\n",
      "12345\n",
      "12345\n",
      "12345\n"
     ]
    }
   ],
   "source": [
    "x=int(input())\n",
    "y=int(input())\n",
    "for i in range(1,x+1):\n",
    "  for j in range(1,y+1):\n",
    "    print(j,end='')\n",
    "  print()"
   ]
  },
  {
   "cell_type": "code",
   "execution_count": null,
   "metadata": {
    "colab": {
     "base_uri": "https://localhost:8080/"
    },
    "executionInfo": {
     "elapsed": 2605,
     "status": "ok",
     "timestamp": 1646755407022,
     "user": {
      "displayName": "SM AZMAIN FAYSAL",
      "photoUrl": "https://lh3.googleusercontent.com/a-/AOh14GjCng6Mjtfby41R5dsEKA1n8fdP6AhL2ANCfIEa=s64",
      "userId": "13640556625402637400"
     },
     "user_tz": -360
    },
    "id": "ovjJhwLeRDzO",
    "outputId": "f33145d2-f6d1-4e96-9d00-2c844cb4831c"
   },
   "outputs": [
    {
     "name": "stdout",
     "output_type": "stream",
     "text": [
      "5\n",
      "1\n",
      "12\n",
      "123\n",
      "1234\n",
      "12345\n"
     ]
    }
   ],
   "source": [
    "x=int(input())\n",
    "for i in range(1,x+1):\n",
    "  for j in range(1,i+1):\n",
    "    print(j,end='')\n",
    "  print()"
   ]
  },
  {
   "cell_type": "code",
   "execution_count": null,
   "metadata": {
    "colab": {
     "base_uri": "https://localhost:8080/"
    },
    "executionInfo": {
     "elapsed": 2871,
     "status": "ok",
     "timestamp": 1646756343409,
     "user": {
      "displayName": "SM AZMAIN FAYSAL",
      "photoUrl": "https://lh3.googleusercontent.com/a-/AOh14GjCng6Mjtfby41R5dsEKA1n8fdP6AhL2ANCfIEa=s64",
      "userId": "13640556625402637400"
     },
     "user_tz": -360
    },
    "id": "2U23c88SSpyK",
    "outputId": "c51277b8-5bd6-4396-c161-41c038218552"
   },
   "outputs": [
    {
     "name": "stdout",
     "output_type": "stream",
     "text": [
      "10\n",
      "0,1,1,2,3,5,8,"
     ]
    }
   ],
   "source": [
    "n=int(input())\n",
    "p=0\n",
    "q=1\n",
    "if n==1:\n",
    "  print(p,end=',')\n",
    "elif n==2:\n",
    "  print(p,end=',')\n",
    "  print(q,end=',')\n",
    "else:\n",
    "    print(p,end=',')\n",
    "    print(q,end=',')\n",
    "    for i in range(3,n):\n",
    "      r=p+q\n",
    "      p=q\n",
    "      q=r\n",
    "      if r<n:\n",
    "        print(r,end=',')\n",
    "  "
   ]
  },
  {
   "cell_type": "code",
   "execution_count": null,
   "metadata": {
    "colab": {
     "base_uri": "https://localhost:8080/"
    },
    "executionInfo": {
     "elapsed": 9909,
     "status": "ok",
     "timestamp": 1646767250096,
     "user": {
      "displayName": "SM AZMAIN FAYSAL",
      "photoUrl": "https://lh3.googleusercontent.com/a-/AOh14GjCng6Mjtfby41R5dsEKA1n8fdP6AhL2ANCfIEa=s64",
      "userId": "13640556625402637400"
     },
     "user_tz": -360
    },
    "id": "IJ_PxWbq6zRz",
    "outputId": "57f8a20b-d834-4689-aba4-262b6eb739a6"
   },
   "outputs": [
    {
     "name": "stdout",
     "output_type": "stream",
     "text": [
      "12345\n",
      "2\n",
      "32145\n"
     ]
    }
   ],
   "source": [
    "n=input()\n",
    "x=int(input())\n",
    "print(n[x::-1],end='')\n",
    "print(n[x+1::1])"
   ]
  },
  {
   "cell_type": "code",
   "execution_count": null,
   "metadata": {
    "colab": {
     "base_uri": "https://localhost:8080/"
    },
    "executionInfo": {
     "elapsed": 3944,
     "status": "ok",
     "timestamp": 1646767785309,
     "user": {
      "displayName": "SM AZMAIN FAYSAL",
      "photoUrl": "https://lh3.googleusercontent.com/a-/AOh14GjCng6Mjtfby41R5dsEKA1n8fdP6AhL2ANCfIEa=s64",
      "userId": "13640556625402637400"
     },
     "user_tz": -360
    },
    "id": "qiNhjVEC_VSI",
    "outputId": "6fa23400-96b3-41f4-f25e-516c44109f45"
   },
   "outputs": [
    {
     "name": "stdout",
     "output_type": "stream",
     "text": [
      "101010101013\n",
      "not\n"
     ]
    }
   ],
   "source": [
    "n=input()\n",
    "bin ='01'\n",
    "count=0\n",
    "for i in n:\n",
    "  if i not in bin:\n",
    "    count+=1\n",
    "if count==0:\n",
    "  print('binary')\n",
    "else:\n",
    "  print('not')"
   ]
  },
  {
   "cell_type": "code",
   "execution_count": null,
   "metadata": {
    "colab": {
     "base_uri": "https://localhost:8080/"
    },
    "executionInfo": {
     "elapsed": 2870,
     "status": "ok",
     "timestamp": 1646768266657,
     "user": {
      "displayName": "SM AZMAIN FAYSAL",
      "photoUrl": "https://lh3.googleusercontent.com/a-/AOh14GjCng6Mjtfby41R5dsEKA1n8fdP6AhL2ANCfIEa=s64",
      "userId": "13640556625402637400"
     },
     "user_tz": -360
    },
    "id": "3E-tYZeNAph-",
    "outputId": "85b39ba4-7440-4ab6-f25a-36193d5cb6bb"
   },
   "outputs": [
    {
     "name": "stdout",
     "output_type": "stream",
     "text": [
      "est\n",
      "est\n"
     ]
    }
   ],
   "source": [
    "n=input()\n",
    "if 'er' in n:\n",
    "  x=n.replace('er','est')\n",
    "  print(x)\n",
    "elif 'est' in n:\n",
    "  print(n)\n",
    "elif len(n)>3:\n",
    "  print(n+'er')\n",
    "else:\n",
    "  print(n)\n"
   ]
  },
  {
   "cell_type": "code",
   "execution_count": null,
   "metadata": {
    "colab": {
     "base_uri": "https://localhost:8080/"
    },
    "executionInfo": {
     "elapsed": 4940,
     "status": "ok",
     "timestamp": 1646768463804,
     "user": {
      "displayName": "SM AZMAIN FAYSAL",
      "photoUrl": "https://lh3.googleusercontent.com/a-/AOh14GjCng6Mjtfby41R5dsEKA1n8fdP6AhL2ANCfIEa=s64",
      "userId": "13640556625402637400"
     },
     "user_tz": -360
    },
    "id": "49bv1YBmCz36",
    "outputId": "73890a92-d59a-4164-e36c-25b654289e6b"
   },
   "outputs": [
    {
     "name": "stdout",
     "output_type": "stream",
     "text": [
      "bangla\n",
      "b\n",
      "ba\n",
      "ban\n",
      "bang\n",
      "bangl\n",
      "bangla\n"
     ]
    }
   ],
   "source": [
    "n=input()\n",
    "for i in range(1,len(n)+1):\n",
    "  for j in range(i):\n",
    "    print(n[j],end='')\n",
    "  print()"
   ]
  },
  {
   "cell_type": "code",
   "execution_count": null,
   "metadata": {
    "colab": {
     "base_uri": "https://localhost:8080/"
    },
    "executionInfo": {
     "elapsed": 4626,
     "status": "ok",
     "timestamp": 1646768639978,
     "user": {
      "displayName": "SM AZMAIN FAYSAL",
      "photoUrl": "https://lh3.googleusercontent.com/a-/AOh14GjCng6Mjtfby41R5dsEKA1n8fdP6AhL2ANCfIEa=s64",
      "userId": "13640556625402637400"
     },
     "user_tz": -360
    },
    "id": "Li5OX9ZsDRjE",
    "outputId": "6947cf9e-5531-45de-be72-1767bb91339e"
   },
   "outputs": [
    {
     "name": "stdout",
     "output_type": "stream",
     "text": [
      "tarunno\n",
      "t : 116\n",
      "a : 97\n",
      "r : 114\n",
      "u : 117\n",
      "n : 110\n",
      "n : 110\n",
      "o : 111\n"
     ]
    }
   ],
   "source": [
    "n=input()\n",
    "for i in n:\n",
    "  print(i,':',ord(i))"
   ]
  },
  {
   "cell_type": "code",
   "execution_count": null,
   "metadata": {
    "colab": {
     "base_uri": "https://localhost:8080/"
    },
    "executionInfo": {
     "elapsed": 3638,
     "status": "ok",
     "timestamp": 1646771418371,
     "user": {
      "displayName": "SM AZMAIN FAYSAL",
      "photoUrl": "https://lh3.googleusercontent.com/a-/AOh14GjCng6Mjtfby41R5dsEKA1n8fdP6AhL2ANCfIEa=s64",
      "userId": "13640556625402637400"
     },
     "user_tz": -360
    },
    "id": "b-fZ6zvHGYhI",
    "outputId": "9a91063e-3c5b-458f-bfc2-55d588de0741"
   },
   "outputs": [
    {
     "name": "stdout",
     "output_type": "stream",
     "text": [
      "hi\n",
      "k\n",
      "hi\n"
     ]
    }
   ],
   "source": [
    "n=input()\n",
    "x=input()\n",
    "if x in n:\n",
    "  y=n.replace('a','')\n",
    "  print(y)\n",
    "elif len(n)<3:\n",
    "  print(n)\n",
    "else:\n",
    "  print(n[1:-1:1])"
   ]
  },
  {
   "cell_type": "code",
   "execution_count": null,
   "metadata": {
    "colab": {
     "base_uri": "https://localhost:8080/"
    },
    "executionInfo": {
     "elapsed": 6,
     "status": "ok",
     "timestamp": 1647428092881,
     "user": {
      "displayName": "SM AZMAIN FAYSAL",
      "photoUrl": "https://lh3.googleusercontent.com/a-/AOh14GjCng6Mjtfby41R5dsEKA1n8fdP6AhL2ANCfIEa=s64",
      "userId": "13640556625402637400"
     },
     "user_tz": -360
    },
    "id": "QfJHgxDjWj20",
    "outputId": "e3905cbf-4716-48f0-b20f-c82ea0ff12a5"
   },
   "outputs": [
    {
     "name": "stdout",
     "output_type": "stream",
     "text": [
      "1 \n",
      "1 2 \n",
      "1 2 3 \n",
      "1 2 3 4 \n",
      "1 2 3 4 5 \n"
     ]
    }
   ],
   "source": [
    "for i in range(1,6):\n",
    "  for j in range(1,i+1):\n",
    "    print(j,end=' ')\n",
    "  print()"
   ]
  },
  {
   "cell_type": "code",
   "execution_count": null,
   "metadata": {
    "colab": {
     "base_uri": "https://localhost:8080/"
    },
    "executionInfo": {
     "elapsed": 2292,
     "status": "ok",
     "timestamp": 1647428204948,
     "user": {
      "displayName": "SM AZMAIN FAYSAL",
      "photoUrl": "https://lh3.googleusercontent.com/a-/AOh14GjCng6Mjtfby41R5dsEKA1n8fdP6AhL2ANCfIEa=s64",
      "userId": "13640556625402637400"
     },
     "user_tz": -360
    },
    "id": "PK2EBYbcXlCN",
    "outputId": "789c0e2e-1c82-4521-9bcb-55e4dbfbf9c9"
   },
   "outputs": [
    {
     "name": "stdout",
     "output_type": "stream",
     "text": [
      "10\n",
      "55\n"
     ]
    }
   ],
   "source": [
    "n=int(input())\n",
    "sum=0\n",
    "for i in range(1,n+1):\n",
    "  sum+=i\n",
    "print(sum)"
   ]
  },
  {
   "cell_type": "code",
   "execution_count": null,
   "metadata": {
    "id": "rzWzTYHPX4es"
   },
   "outputs": [],
   "source": []
  },
  {
   "cell_type": "code",
   "execution_count": null,
   "metadata": {
    "id": "M3vmIIz0Ae54"
   },
   "outputs": [],
   "source": [
    "a=input().split(',')\n",
    "print(a)\n",
    "print(int(a[0])+int(a[1]))"
   ]
  },
  {
   "cell_type": "code",
   "execution_count": null,
   "metadata": {
    "id": "nmtxc3aIDXKz"
   },
   "outputs": [],
   "source": [
    "si=\"7,\"\n",
    "newl1=sm.split(',')\n",
    "newl1=[]\\\n",
    "for i in newl1:\n",
    "  newl1.append(int(i))\n",
    "  print('my list ',newl1)"
   ]
  },
  {
   "cell_type": "code",
   "execution_count": null,
   "metadata": {
    "id": "_zJDsGq0KxO2"
   },
   "outputs": [],
   "source": [
    "#9 number \n",
    "x=[]\n",
    "n=input()\\\n",
    "dig=''\n",
    "for i in n:\n",
    "  if j!=-' ':\n",
    "    dig+=i\n",
    "  else:\n",
    "    x.append(int(dig))\n",
    "    dig=''\n",
    "x.appen(int(dig))\n",
    "print(x)\n",
    "for j in x:\n",
    "  if i%2-==0:\n",
    "    x.remove(i)\n",
    "print(x)"
   ]
  },
  {
   "cell_type": "code",
   "execution_count": null,
   "metadata": {
    "id": "X01i0lcM5xV3"
   },
   "outputs": [],
   "source": []
  }
 ],
 "metadata": {
  "colab": {
   "authorship_tag": "ABX9TyPgYm/okg/cNtEWLeHzbXbT",
   "name": "Practice01.ipynb",
   "provenance": []
  },
  "kernelspec": {
   "display_name": "Python 3",
   "name": "python3"
  },
  "language_info": {
   "codemirror_mode": {
    "name": "ipython",
    "version": 3
   },
   "file_extension": ".py",
   "mimetype": "text/x-python",
   "name": "python",
   "nbconvert_exporter": "python",
   "pygments_lexer": "ipython3",
   "version": "3.9.6"
  }
 },
 "nbformat": 4,
 "nbformat_minor": 0
}
