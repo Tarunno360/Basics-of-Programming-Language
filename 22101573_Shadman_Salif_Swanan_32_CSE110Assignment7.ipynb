{
  "nbformat": 4,
  "nbformat_minor": 0,
  "metadata": {
    "colab": {
      "name": "22101573_Shadman Salif Swanan_32_CSE110Assignment7.ipynb",
      "provenance": [],
      "collapsed_sections": []
    },
    "kernelspec": {
      "name": "python3",
      "display_name": "Python 3"
    },
    "language_info": {
      "name": "python"
    }
  },
  "cells": [
    {
      "cell_type": "code",
      "source": [
        "#task1\n",
        "my_list = [10, 1, 20, 3, 6, 2, 5, 11, 15, 2, 12, 14, 17, 18, 29]\n",
        "\n",
        "for i in range(len(my_list)-1):\n",
        "  for j in range(0,len(my_list)-i-1):\n",
        "    if my_list[j]>my_list[j+1]:\n",
        "      temp=my_list[j]\n",
        "      my_list[j]=my_list[j+1]\n",
        "      my_list[j+1]=temp\n",
        "print(my_list)"
      ],
      "metadata": {
        "colab": {
          "base_uri": "https://localhost:8080/"
        },
        "id": "NnixX0lT7ouI",
        "outputId": "d09141ba-6c39-49b6-ac98-1d49b08b0d05"
      },
      "execution_count": 12,
      "outputs": [
        {
          "output_type": "stream",
          "name": "stdout",
          "text": [
            "[1, 2, 2, 3, 5, 6, 10, 11, 12, 14, 15, 17, 18, 20, 29]\n"
          ]
        }
      ]
    },
    {
      "cell_type": "code",
      "execution_count": null,
      "metadata": {
        "colab": {
          "base_uri": "https://localhost:8080/"
        },
        "id": "7cgzJA2FQqvg",
        "outputId": "e71a1428-bcf1-4152-815f-e8462f035799"
      },
      "outputs": [
        {
          "output_type": "stream",
          "name": "stdout",
          "text": [
            "[1, 2, 2, 3, 5, 6, 10, 11, 12, 14, 15, 17, 18, 20, 29]\n"
          ]
        }
      ],
      "source": [
        "#task 2\n",
        "def my_list(x):\n",
        "  for i in range(len(x)):\n",
        "    min=x[i]\n",
        "    min_index=i\n",
        "    for j in range(i+1,len(x)):\n",
        "      if x[j]<min:\n",
        "        min=x[j]\n",
        "        min_index=j\n",
        "    temp=x[min_index]\n",
        "    x[min_index]=x[i]\n",
        "    x[i]=temp\n",
        "  return x\n",
        "n=[10, 1, 20, 3, 6, 2, 5, 11, 15, 2, 12, 14, 17, 18, 29]\n",
        "print(my_list(n))"
      ]
    },
    {
      "cell_type": "code",
      "source": [
        "#task 3\n",
        "def my_list(x):\n",
        "  for i in range(len(x)):\n",
        "    min=x[i]\n",
        "    min_index=i\n",
        "    for j in range(i+1,len(x)):\n",
        "      if x[j]>min:\n",
        "        min=x[j]\n",
        "        min_index=j\n",
        "    temp=x[min_index]\n",
        "    x[min_index]=x[i]\n",
        "    x[i]=temp\n",
        "  return x\n",
        "n=[10, 1, 20, 3, 6, 2, 5, 11, 15, 2, 12, 14, 17, 18, 29]\n",
        "print(my_list(n))"
      ],
      "metadata": {
        "colab": {
          "base_uri": "https://localhost:8080/"
        },
        "id": "fBQr-poGShaq",
        "outputId": "ead6c479-b921-4f7b-fde1-d6c5546d544e"
      },
      "execution_count": null,
      "outputs": [
        {
          "output_type": "stream",
          "name": "stdout",
          "text": [
            "[29, 20, 18, 17, 15, 14, 12, 11, 10, 6, 5, 3, 2, 2, 1]\n"
          ]
        }
      ]
    },
    {
      "cell_type": "code",
      "source": [
        "#task4\n",
        "sitting_list = [10,30,20,70,11,15,22,16,58,100,12,56,70,80]\n",
        "\n",
        "for i in range(0,len(sitting_list)-1,2): \n",
        "    for j in range(0,len(sitting_list)-2,2):\n",
        "        if sitting_list[j]>sitting_list[j+2]:\n",
        "            temp=sitting_list[j]\n",
        "            sitting_list[j]=sitting_list[j+2]\n",
        "            sitting_list[j+2]=temp   \n",
        "for io in range(1,len(sitting_list)-1,2): \n",
        "    for jo in range(1,len(sitting_list)-2,2):\n",
        "        if sitting_list[jo]<sitting_list[jo+2]:\n",
        "            temp=sitting_list[jo]\n",
        "            sitting_list[jo]=sitting_list[jo+2]\n",
        "            sitting_list[jo+2]=temp \n",
        "print(sitting_list)"
      ],
      "metadata": {
        "colab": {
          "base_uri": "https://localhost:8080/"
        },
        "id": "wTloZzz177Rx",
        "outputId": "cdfbfe32-c840-4c20-ac7f-01f8cd725f20"
      },
      "execution_count": 2,
      "outputs": [
        {
          "output_type": "stream",
          "name": "stdout",
          "text": [
            "[10, 100, 11, 80, 12, 70, 20, 56, 22, 30, 58, 16, 70, 15]\n"
          ]
        }
      ]
    },
    {
      "cell_type": "code",
      "source": [
        "#task5\n",
        "lst = [ [\"Alan\", 95, 87, 91], [\"Turing\", 92, 90, 83], [\"Elon\", 87, 92, 80], [\"Musk\", 85, 94, 90] ]\n",
        "user=input(\"Enter the course name:\")\n",
        "\n",
        "if user==\"CSE110\":\n",
        "    index=1\n",
        "elif user==\"PHY111\":\n",
        "    index=2\n",
        "elif user==\"MAT110\":\n",
        "    index=3    \n",
        "dic={}\n",
        "for i in lst:\n",
        "    dic[i[index]]=i[0]\n",
        "def reversebubble(list_keys):\n",
        "    for i in range(0,len(list_keys)-1):\n",
        "        for j in range(0,len(list_keys)-i-1):\n",
        "            if list_keys[j]<list_keys[j+1]:\n",
        "                temp=list_keys[j]\n",
        "                list_keys[j]=list_keys[j+1]\n",
        "                list_keys[j+1]=temp\n",
        "    return list_keys\n",
        "list_keys=list(dic.keys())\n",
        "sort=reversebubble(list_keys)\n",
        "\n",
        "for i in sort:\n",
        "    for key,value in dic.items():\n",
        "        if i==key:\n",
        "            print(value)"
      ],
      "metadata": {
        "colab": {
          "base_uri": "https://localhost:8080/"
        },
        "id": "eVIZyreE8g8r",
        "outputId": "13e0da82-46f1-47bd-b3bf-d277bca2b81a"
      },
      "execution_count": 4,
      "outputs": [
        {
          "output_type": "stream",
          "name": "stdout",
          "text": [
            "Enter the course name:PHY111\n",
            "Musk\n",
            "Elon\n",
            "Turing\n",
            "Alan\n"
          ]
        }
      ]
    },
    {
      "cell_type": "code",
      "source": [
        "#task6\n",
        "my_list =[4, 2, 3, 1, 6, 5]\n",
        "x=tuple(my_list)\n",
        "count=0\n",
        "for i in range(len(my_list)-1):\n",
        "    mindex=i\n",
        "    mvalue=my_list[i]\n",
        "    for j in range(i+1,len(my_list)):\n",
        "        if my_list[j]<my_list[mindex]:\n",
        "            mindex=j\n",
        "            mvalue=my_list[j]         \n",
        "    my_list[i],my_list[mindex]=my_list[mindex],my_list[i]    \n",
        "for o in range(len(my_list)):\n",
        "    if my_list[o]!=x[o]:\n",
        "        count=count+1\n",
        "print(count)"
      ],
      "metadata": {
        "colab": {
          "base_uri": "https://localhost:8080/"
        },
        "id": "o7lRGyo485Z5",
        "outputId": "ef85c22a-1e39-442a-b30b-86df7ece9929"
      },
      "execution_count": 7,
      "outputs": [
        {
          "output_type": "stream",
          "name": "stdout",
          "text": [
            "4\n"
          ]
        }
      ]
    },
    {
      "cell_type": "code",
      "source": [
        "#task7\n",
        "def bub(my_list):\n",
        "    for idx1 in range(0, len(my_list)-1):\n",
        "        for idx2 in range(0, len(my_list)-idx1-1):\n",
        "            if my_list[idx2]>my_list[idx2 + 1]:\n",
        "                temp = my_list[idx2]\n",
        "                my_list[idx2]= my_list[idx2+1]\n",
        "                my_list[idx2 + 1]= temp\n",
        "\n",
        "    return my_list\n",
        "\n",
        "list_1 = input(\"Please enter your list using comma: \").split(\",\")\n",
        "list_2 = input(\"Please enter your list using comma: \").split(\",\")\n",
        "list_3 = list_1 + list_2\n",
        "list_4 = []\n",
        "\n",
        "for i in list_3:\n",
        "    list_4.append(int(i))\n",
        "\n",
        "bub(list_4)\n",
        "\n",
        "if len(list_4) % 2 != 0:\n",
        "    median = list_4[len(list_4)//2]\n",
        "else:\n",
        "    median = (list_4[len(list_4)//2 - 1] + list_4[len(list_4)//2])/2\n",
        "\n",
        "\n",
        "print(\"Sorted list=\", list_4,\"\\nMedian=\", median)"
      ],
      "metadata": {
        "colab": {
          "base_uri": "https://localhost:8080/"
        },
        "id": "z0RLv__b9J56",
        "outputId": "d829ab67-6db0-4a10-f354-209c89985f3f"
      },
      "execution_count": 10,
      "outputs": [
        {
          "output_type": "stream",
          "name": "stdout",
          "text": [
            "Please enter your list using comma: 1,2,1,4\n",
            "Please enter your list using comma: 5,4,4\n",
            "Sorted list= [1, 1, 2, 4, 4, 4, 5] \n",
            "Median= 4\n"
          ]
        }
      ]
    },
    {
      "cell_type": "code",
      "source": [
        "#task8\n",
        "list_one =  [-10, 15, 2, 4, -4, 7, -8]\n",
        "min_dif=abs(list_one[0]+list_one[1])\n",
        "a=0\n",
        "b=0\n",
        "dif=100000\n",
        "for i in range(len(list_one)):\n",
        "    for j in range(len(list_one)-1):\n",
        "        if (i!=j):\n",
        "            dif=abs(list_one[i]+list_one[j])\n",
        "        if dif<min_dif:\n",
        "            min_dif=dif\n",
        "            a=list_one[i]\n",
        "            b=list_one[j]\n",
        "print(\"Two pairs which have the smallest sum =\",a,\"and\",b)"
      ],
      "metadata": {
        "colab": {
          "base_uri": "https://localhost:8080/"
        },
        "id": "xkqBmkDP96xY",
        "outputId": "6154c7c3-7232-4b34-aa7f-79f83600f537"
      },
      "execution_count": 11,
      "outputs": [
        {
          "output_type": "stream",
          "name": "stdout",
          "text": [
            "Two pairs which have the smallest sum = 4 and -4\n"
          ]
        }
      ]
    },
    {
      "cell_type": "code",
      "source": [
        "#task9\n",
        "points = [(5,3), (2,9), (-2,7), (-3,-4), (0,6), (7,-2)]\n",
        "min_distance=((points[0][0])**2+(points[0][1])**2)**0.5\n",
        "for i in points:\n",
        "  dis=((i[0])**2+(i[1])**2)**0.5\n",
        "  if dis<min_distance:\n",
        "         min_distance=dis\n",
        "         min_tuple=i\n",
        "print('The minimum distance is: ',min_distance)\n",
        "print('Here the closest point is {} which has a distance of {} from the origin'.format(min_tuple,min_distance))"
      ],
      "metadata": {
        "colab": {
          "base_uri": "https://localhost:8080/"
        },
        "id": "2ajOILWY-FrS",
        "outputId": "668aaff2-1c7f-4855-e7f7-058fa4440382"
      },
      "execution_count": 14,
      "outputs": [
        {
          "output_type": "stream",
          "name": "stdout",
          "text": [
            "The minimum distance is:  5.0\n",
            "Here the closest point is (-3, -4) which has a distance of 5.0 from the origin\n"
          ]
        }
      ]
    }
  ]
}